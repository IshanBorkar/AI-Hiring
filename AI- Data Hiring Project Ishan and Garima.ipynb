{
 "cells": [
  {
   "cell_type": "markdown",
   "metadata": {},
   "source": [
    "##  Import the necessary packages\n"
   ]
  },
  {
   "cell_type": "code",
   "execution_count": 1,
   "metadata": {},
   "outputs": [],
   "source": [
    "import pandas as pd\n",
    "import numpy as np\n",
    "import matplotlib.pyplot as plt\n",
    "import seaborn as sns\n",
    "from matplotlib import rcParams\n",
    "%matplotlib inline\n",
    "from collections import Counter\n",
    "import warnings\n",
    "warnings.filterwarnings(\"ignore\")\n",
    "from sklearn.preprocessing import LabelEncoder,scale\n",
    "from sklearn.model_selection import train_test_split\n",
    "from sklearn.ensemble import RandomForestClassifier\n",
    "from sklearn.metrics import accuracy_score,precision_score,confusion_matrix,classification_report,f1_score,recall_score\n",
    "import datetime as dt\n",
    "import seaborn as sns\n",
    "from scipy import stats"
   ]
  },
  {
   "cell_type": "markdown",
   "metadata": {},
   "source": [
    "## Load the dataset\n"
   ]
  },
  {
   "cell_type": "code",
   "execution_count": 2,
   "metadata": {},
   "outputs": [],
   "source": [
    "data=pd.read_excel(\"AI for Hiring Data Set.xlsx\")"
   ]
  },
  {
   "cell_type": "code",
   "execution_count": 3,
   "metadata": {},
   "outputs": [
    {
     "data": {
      "text/html": [
       "<div>\n",
       "<style scoped>\n",
       "    .dataframe tbody tr th:only-of-type {\n",
       "        vertical-align: middle;\n",
       "    }\n",
       "\n",
       "    .dataframe tbody tr th {\n",
       "        vertical-align: top;\n",
       "    }\n",
       "\n",
       "    .dataframe thead th {\n",
       "        text-align: right;\n",
       "    }\n",
       "</style>\n",
       "<table border=\"1\" class=\"dataframe\">\n",
       "  <thead>\n",
       "    <tr style=\"text-align: right;\">\n",
       "      <th></th>\n",
       "      <th>S.NO</th>\n",
       "      <th>DEPT</th>\n",
       "      <th>COLLEGE</th>\n",
       "      <th>GENDER</th>\n",
       "      <th>10TH</th>\n",
       "      <th>12TH</th>\n",
       "      <th>UG</th>\n",
       "      <th>PG</th>\n",
       "    </tr>\n",
       "  </thead>\n",
       "  <tbody>\n",
       "    <tr>\n",
       "      <th>0</th>\n",
       "      <td>1</td>\n",
       "      <td>B. Sc IT</td>\n",
       "      <td>NEHRU ARTS AND SCIENCE COLLEGE</td>\n",
       "      <td>Female</td>\n",
       "      <td>64</td>\n",
       "      <td>66</td>\n",
       "      <td>67.0</td>\n",
       "      <td>NaN</td>\n",
       "    </tr>\n",
       "    <tr>\n",
       "      <th>1</th>\n",
       "      <td>2</td>\n",
       "      <td>B. Sc IT</td>\n",
       "      <td>NEHRU ARTS AND SCIENCE COLLEGE</td>\n",
       "      <td>Male</td>\n",
       "      <td>80.8</td>\n",
       "      <td>51</td>\n",
       "      <td>67.0</td>\n",
       "      <td>NaN</td>\n",
       "    </tr>\n",
       "    <tr>\n",
       "      <th>2</th>\n",
       "      <td>3</td>\n",
       "      <td>B. Sc IT</td>\n",
       "      <td>NEHRU ARTS AND SCIENCE COLLEGE</td>\n",
       "      <td>Female</td>\n",
       "      <td>92</td>\n",
       "      <td>66</td>\n",
       "      <td>71.0</td>\n",
       "      <td>NaN</td>\n",
       "    </tr>\n",
       "    <tr>\n",
       "      <th>3</th>\n",
       "      <td>4</td>\n",
       "      <td>B. Sc IT</td>\n",
       "      <td>NEHRU ARTS AND SCIENCE COLLEGE</td>\n",
       "      <td>Male</td>\n",
       "      <td>67</td>\n",
       "      <td>53</td>\n",
       "      <td>60.0</td>\n",
       "      <td>NaN</td>\n",
       "    </tr>\n",
       "    <tr>\n",
       "      <th>4</th>\n",
       "      <td>5</td>\n",
       "      <td>B. Sc IT</td>\n",
       "      <td>NEHRU ARTS AND SCIENCE COLLEGE</td>\n",
       "      <td>Male</td>\n",
       "      <td>86</td>\n",
       "      <td>72</td>\n",
       "      <td>6.5</td>\n",
       "      <td>NaN</td>\n",
       "    </tr>\n",
       "  </tbody>\n",
       "</table>\n",
       "</div>"
      ],
      "text/plain": [
       "   S.NO      DEPT                         COLLEGE  GENDER  10TH 12TH    UG  PG\n",
       "0     1  B. Sc IT  NEHRU ARTS AND SCIENCE COLLEGE  Female    64   66  67.0 NaN\n",
       "1     2  B. Sc IT  NEHRU ARTS AND SCIENCE COLLEGE    Male  80.8   51  67.0 NaN\n",
       "2     3  B. Sc IT  NEHRU ARTS AND SCIENCE COLLEGE  Female    92   66  71.0 NaN\n",
       "3     4  B. Sc IT  NEHRU ARTS AND SCIENCE COLLEGE    Male    67   53  60.0 NaN\n",
       "4     5  B. Sc IT  NEHRU ARTS AND SCIENCE COLLEGE    Male    86   72   6.5 NaN"
      ]
     },
     "execution_count": 3,
     "metadata": {},
     "output_type": "execute_result"
    }
   ],
   "source": [
    "data.head()"
   ]
  },
  {
   "cell_type": "markdown",
   "metadata": {},
   "source": [
    "## Check for EDA"
   ]
  },
  {
   "cell_type": "code",
   "execution_count": 4,
   "metadata": {},
   "outputs": [],
   "source": [
    "data=data.iloc[:]"
   ]
  },
  {
   "cell_type": "code",
   "execution_count": 5,
   "metadata": {},
   "outputs": [
    {
     "data": {
      "text/html": [
       "<div>\n",
       "<style scoped>\n",
       "    .dataframe tbody tr th:only-of-type {\n",
       "        vertical-align: middle;\n",
       "    }\n",
       "\n",
       "    .dataframe tbody tr th {\n",
       "        vertical-align: top;\n",
       "    }\n",
       "\n",
       "    .dataframe thead th {\n",
       "        text-align: right;\n",
       "    }\n",
       "</style>\n",
       "<table border=\"1\" class=\"dataframe\">\n",
       "  <thead>\n",
       "    <tr style=\"text-align: right;\">\n",
       "      <th></th>\n",
       "      <th>S.NO</th>\n",
       "      <th>DEPT</th>\n",
       "      <th>COLLEGE</th>\n",
       "      <th>GENDER</th>\n",
       "      <th>10TH</th>\n",
       "      <th>12TH</th>\n",
       "      <th>UG</th>\n",
       "      <th>PG</th>\n",
       "    </tr>\n",
       "  </thead>\n",
       "  <tbody>\n",
       "    <tr>\n",
       "      <th>0</th>\n",
       "      <td>1</td>\n",
       "      <td>B. Sc IT</td>\n",
       "      <td>NEHRU ARTS AND SCIENCE COLLEGE</td>\n",
       "      <td>Female</td>\n",
       "      <td>64</td>\n",
       "      <td>66</td>\n",
       "      <td>67.0</td>\n",
       "      <td>NaN</td>\n",
       "    </tr>\n",
       "    <tr>\n",
       "      <th>1</th>\n",
       "      <td>2</td>\n",
       "      <td>B. Sc IT</td>\n",
       "      <td>NEHRU ARTS AND SCIENCE COLLEGE</td>\n",
       "      <td>Male</td>\n",
       "      <td>80.8</td>\n",
       "      <td>51</td>\n",
       "      <td>67.0</td>\n",
       "      <td>NaN</td>\n",
       "    </tr>\n",
       "    <tr>\n",
       "      <th>2</th>\n",
       "      <td>3</td>\n",
       "      <td>B. Sc IT</td>\n",
       "      <td>NEHRU ARTS AND SCIENCE COLLEGE</td>\n",
       "      <td>Female</td>\n",
       "      <td>92</td>\n",
       "      <td>66</td>\n",
       "      <td>71.0</td>\n",
       "      <td>NaN</td>\n",
       "    </tr>\n",
       "    <tr>\n",
       "      <th>3</th>\n",
       "      <td>4</td>\n",
       "      <td>B. Sc IT</td>\n",
       "      <td>NEHRU ARTS AND SCIENCE COLLEGE</td>\n",
       "      <td>Male</td>\n",
       "      <td>67</td>\n",
       "      <td>53</td>\n",
       "      <td>60.0</td>\n",
       "      <td>NaN</td>\n",
       "    </tr>\n",
       "    <tr>\n",
       "      <th>4</th>\n",
       "      <td>5</td>\n",
       "      <td>B. Sc IT</td>\n",
       "      <td>NEHRU ARTS AND SCIENCE COLLEGE</td>\n",
       "      <td>Male</td>\n",
       "      <td>86</td>\n",
       "      <td>72</td>\n",
       "      <td>6.5</td>\n",
       "      <td>NaN</td>\n",
       "    </tr>\n",
       "  </tbody>\n",
       "</table>\n",
       "</div>"
      ],
      "text/plain": [
       "   S.NO      DEPT                         COLLEGE  GENDER  10TH 12TH    UG  PG\n",
       "0     1  B. Sc IT  NEHRU ARTS AND SCIENCE COLLEGE  Female    64   66  67.0 NaN\n",
       "1     2  B. Sc IT  NEHRU ARTS AND SCIENCE COLLEGE    Male  80.8   51  67.0 NaN\n",
       "2     3  B. Sc IT  NEHRU ARTS AND SCIENCE COLLEGE  Female    92   66  71.0 NaN\n",
       "3     4  B. Sc IT  NEHRU ARTS AND SCIENCE COLLEGE    Male    67   53  60.0 NaN\n",
       "4     5  B. Sc IT  NEHRU ARTS AND SCIENCE COLLEGE    Male    86   72   6.5 NaN"
      ]
     },
     "execution_count": 5,
     "metadata": {},
     "output_type": "execute_result"
    }
   ],
   "source": [
    "data.head()"
   ]
  },
  {
   "cell_type": "code",
   "execution_count": 6,
   "metadata": {},
   "outputs": [
    {
     "data": {
      "text/plain": [
       "(667, 8)"
      ]
     },
     "execution_count": 6,
     "metadata": {},
     "output_type": "execute_result"
    }
   ],
   "source": [
    "data.shape"
   ]
  },
  {
   "cell_type": "code",
   "execution_count": 7,
   "metadata": {},
   "outputs": [
    {
     "data": {
      "text/plain": [
       "['S.NO', 'DEPT', 'COLLEGE', 'GENDER', '10TH', '12TH', 'UG', 'PG']"
      ]
     },
     "execution_count": 7,
     "metadata": {},
     "output_type": "execute_result"
    }
   ],
   "source": [
    "list(data)"
   ]
  },
  {
   "cell_type": "code",
   "execution_count": 8,
   "metadata": {},
   "outputs": [
    {
     "data": {
      "text/html": [
       "<div>\n",
       "<style scoped>\n",
       "    .dataframe tbody tr th:only-of-type {\n",
       "        vertical-align: middle;\n",
       "    }\n",
       "\n",
       "    .dataframe tbody tr th {\n",
       "        vertical-align: top;\n",
       "    }\n",
       "\n",
       "    .dataframe thead th {\n",
       "        text-align: right;\n",
       "    }\n",
       "</style>\n",
       "<table border=\"1\" class=\"dataframe\">\n",
       "  <thead>\n",
       "    <tr style=\"text-align: right;\">\n",
       "      <th></th>\n",
       "      <th>S.NO</th>\n",
       "      <th>DEPT</th>\n",
       "      <th>COLLEGE</th>\n",
       "      <th>GENDER</th>\n",
       "      <th>10TH</th>\n",
       "      <th>12TH</th>\n",
       "      <th>UG</th>\n",
       "      <th>PG</th>\n",
       "    </tr>\n",
       "  </thead>\n",
       "  <tbody>\n",
       "    <tr>\n",
       "      <th>0</th>\n",
       "      <td>1</td>\n",
       "      <td>B. Sc IT</td>\n",
       "      <td>NEHRU ARTS AND SCIENCE COLLEGE</td>\n",
       "      <td>Female</td>\n",
       "      <td>64</td>\n",
       "      <td>66</td>\n",
       "      <td>67.0</td>\n",
       "      <td>NaN</td>\n",
       "    </tr>\n",
       "    <tr>\n",
       "      <th>1</th>\n",
       "      <td>2</td>\n",
       "      <td>B. Sc IT</td>\n",
       "      <td>NEHRU ARTS AND SCIENCE COLLEGE</td>\n",
       "      <td>Male</td>\n",
       "      <td>80.8</td>\n",
       "      <td>51</td>\n",
       "      <td>67.0</td>\n",
       "      <td>NaN</td>\n",
       "    </tr>\n",
       "    <tr>\n",
       "      <th>2</th>\n",
       "      <td>3</td>\n",
       "      <td>B. Sc IT</td>\n",
       "      <td>NEHRU ARTS AND SCIENCE COLLEGE</td>\n",
       "      <td>Female</td>\n",
       "      <td>92</td>\n",
       "      <td>66</td>\n",
       "      <td>71.0</td>\n",
       "      <td>NaN</td>\n",
       "    </tr>\n",
       "    <tr>\n",
       "      <th>3</th>\n",
       "      <td>4</td>\n",
       "      <td>B. Sc IT</td>\n",
       "      <td>NEHRU ARTS AND SCIENCE COLLEGE</td>\n",
       "      <td>Male</td>\n",
       "      <td>67</td>\n",
       "      <td>53</td>\n",
       "      <td>60.0</td>\n",
       "      <td>NaN</td>\n",
       "    </tr>\n",
       "    <tr>\n",
       "      <th>4</th>\n",
       "      <td>5</td>\n",
       "      <td>B. Sc IT</td>\n",
       "      <td>NEHRU ARTS AND SCIENCE COLLEGE</td>\n",
       "      <td>Male</td>\n",
       "      <td>86</td>\n",
       "      <td>72</td>\n",
       "      <td>6.5</td>\n",
       "      <td>NaN</td>\n",
       "    </tr>\n",
       "  </tbody>\n",
       "</table>\n",
       "</div>"
      ],
      "text/plain": [
       "   S.NO      DEPT                         COLLEGE  GENDER  10TH 12TH    UG  PG\n",
       "0     1  B. Sc IT  NEHRU ARTS AND SCIENCE COLLEGE  Female    64   66  67.0 NaN\n",
       "1     2  B. Sc IT  NEHRU ARTS AND SCIENCE COLLEGE    Male  80.8   51  67.0 NaN\n",
       "2     3  B. Sc IT  NEHRU ARTS AND SCIENCE COLLEGE  Female    92   66  71.0 NaN\n",
       "3     4  B. Sc IT  NEHRU ARTS AND SCIENCE COLLEGE    Male    67   53  60.0 NaN\n",
       "4     5  B. Sc IT  NEHRU ARTS AND SCIENCE COLLEGE    Male    86   72   6.5 NaN"
      ]
     },
     "execution_count": 8,
     "metadata": {},
     "output_type": "execute_result"
    }
   ],
   "source": [
    "data.head()"
   ]
  },
  {
   "cell_type": "markdown",
   "metadata": {},
   "source": [
    "## Create a new dataframe data1 and include the previous dataframe data in it"
   ]
  },
  {
   "cell_type": "code",
   "execution_count": 9,
   "metadata": {},
   "outputs": [],
   "source": [
    "data1=pd.DataFrame(data,columns=['S.NO', 'DEPT', 'COLLEGE', 'GENDER', '10TH', '12TH', 'UG', 'PG'])"
   ]
  },
  {
   "cell_type": "code",
   "execution_count": 10,
   "metadata": {},
   "outputs": [
    {
     "data": {
      "text/html": [
       "<div>\n",
       "<style scoped>\n",
       "    .dataframe tbody tr th:only-of-type {\n",
       "        vertical-align: middle;\n",
       "    }\n",
       "\n",
       "    .dataframe tbody tr th {\n",
       "        vertical-align: top;\n",
       "    }\n",
       "\n",
       "    .dataframe thead th {\n",
       "        text-align: right;\n",
       "    }\n",
       "</style>\n",
       "<table border=\"1\" class=\"dataframe\">\n",
       "  <thead>\n",
       "    <tr style=\"text-align: right;\">\n",
       "      <th></th>\n",
       "      <th>S.NO</th>\n",
       "      <th>DEPT</th>\n",
       "      <th>COLLEGE</th>\n",
       "      <th>GENDER</th>\n",
       "      <th>10TH</th>\n",
       "      <th>12TH</th>\n",
       "      <th>UG</th>\n",
       "      <th>PG</th>\n",
       "    </tr>\n",
       "  </thead>\n",
       "  <tbody>\n",
       "    <tr>\n",
       "      <th>0</th>\n",
       "      <td>1</td>\n",
       "      <td>B. Sc IT</td>\n",
       "      <td>NEHRU ARTS AND SCIENCE COLLEGE</td>\n",
       "      <td>Female</td>\n",
       "      <td>64</td>\n",
       "      <td>66</td>\n",
       "      <td>67.0</td>\n",
       "      <td>NaN</td>\n",
       "    </tr>\n",
       "    <tr>\n",
       "      <th>1</th>\n",
       "      <td>2</td>\n",
       "      <td>B. Sc IT</td>\n",
       "      <td>NEHRU ARTS AND SCIENCE COLLEGE</td>\n",
       "      <td>Male</td>\n",
       "      <td>80.8</td>\n",
       "      <td>51</td>\n",
       "      <td>67.0</td>\n",
       "      <td>NaN</td>\n",
       "    </tr>\n",
       "    <tr>\n",
       "      <th>2</th>\n",
       "      <td>3</td>\n",
       "      <td>B. Sc IT</td>\n",
       "      <td>NEHRU ARTS AND SCIENCE COLLEGE</td>\n",
       "      <td>Female</td>\n",
       "      <td>92</td>\n",
       "      <td>66</td>\n",
       "      <td>71.0</td>\n",
       "      <td>NaN</td>\n",
       "    </tr>\n",
       "    <tr>\n",
       "      <th>3</th>\n",
       "      <td>4</td>\n",
       "      <td>B. Sc IT</td>\n",
       "      <td>NEHRU ARTS AND SCIENCE COLLEGE</td>\n",
       "      <td>Male</td>\n",
       "      <td>67</td>\n",
       "      <td>53</td>\n",
       "      <td>60.0</td>\n",
       "      <td>NaN</td>\n",
       "    </tr>\n",
       "    <tr>\n",
       "      <th>4</th>\n",
       "      <td>5</td>\n",
       "      <td>B. Sc IT</td>\n",
       "      <td>NEHRU ARTS AND SCIENCE COLLEGE</td>\n",
       "      <td>Male</td>\n",
       "      <td>86</td>\n",
       "      <td>72</td>\n",
       "      <td>6.5</td>\n",
       "      <td>NaN</td>\n",
       "    </tr>\n",
       "  </tbody>\n",
       "</table>\n",
       "</div>"
      ],
      "text/plain": [
       "   S.NO      DEPT                         COLLEGE  GENDER  10TH 12TH    UG  PG\n",
       "0     1  B. Sc IT  NEHRU ARTS AND SCIENCE COLLEGE  Female    64   66  67.0 NaN\n",
       "1     2  B. Sc IT  NEHRU ARTS AND SCIENCE COLLEGE    Male  80.8   51  67.0 NaN\n",
       "2     3  B. Sc IT  NEHRU ARTS AND SCIENCE COLLEGE  Female    92   66  71.0 NaN\n",
       "3     4  B. Sc IT  NEHRU ARTS AND SCIENCE COLLEGE    Male    67   53  60.0 NaN\n",
       "4     5  B. Sc IT  NEHRU ARTS AND SCIENCE COLLEGE    Male    86   72   6.5 NaN"
      ]
     },
     "execution_count": 10,
     "metadata": {},
     "output_type": "execute_result"
    }
   ],
   "source": [
    "data1.head()"
   ]
  },
  {
   "cell_type": "code",
   "execution_count": 11,
   "metadata": {},
   "outputs": [
    {
     "name": "stdout",
     "output_type": "stream",
     "text": [
      "     S.NO      DEPT                         COLLEGE  GENDER  10TH  12TH  \\\n",
      "0       1  B. Sc IT  NEHRU ARTS AND SCIENCE COLLEGE  Female    64    66   \n",
      "1       2  B. Sc IT  NEHRU ARTS AND SCIENCE COLLEGE    Male  80.8    51   \n",
      "2       3  B. Sc IT  NEHRU ARTS AND SCIENCE COLLEGE  Female    92    66   \n",
      "3       4  B. Sc IT  NEHRU ARTS AND SCIENCE COLLEGE    Male    67    53   \n",
      "4       5  B. Sc IT  NEHRU ARTS AND SCIENCE COLLEGE    Male    86    72   \n",
      "..    ...       ...                             ...     ...   ...   ...   \n",
      "662   663       EEE                            NIET  FEMALE    78    72   \n",
      "663   664       CSE                             NIT  Female    98    83   \n",
      "664   665       CSE                             NIT  Female    86    68   \n",
      "665   666       CSE                             NIT  Female  0.88  0.85   \n",
      "666   667      CSE                              NIT  Female  0.91  0.88   \n",
      "\n",
      "        UG  PG  \n",
      "0    67.00 NaN  \n",
      "1    67.00 NaN  \n",
      "2    71.00 NaN  \n",
      "3    60.00 NaN  \n",
      "4     6.50 NaN  \n",
      "..     ...  ..  \n",
      "662   7.13 NaN  \n",
      "663   8.20 NaN  \n",
      "664   7.50 NaN  \n",
      "665   8.10 NaN  \n",
      "666   7.20 NaN  \n",
      "\n",
      "[667 rows x 8 columns]\n"
     ]
    }
   ],
   "source": [
    "print(data1)"
   ]
  },
  {
   "cell_type": "markdown",
   "metadata": {},
   "source": [
    "## Check for the EDA steps"
   ]
  },
  {
   "cell_type": "code",
   "execution_count": 12,
   "metadata": {},
   "outputs": [
    {
     "data": {
      "text/html": [
       "<div>\n",
       "<style scoped>\n",
       "    .dataframe tbody tr th:only-of-type {\n",
       "        vertical-align: middle;\n",
       "    }\n",
       "\n",
       "    .dataframe tbody tr th {\n",
       "        vertical-align: top;\n",
       "    }\n",
       "\n",
       "    .dataframe thead th {\n",
       "        text-align: right;\n",
       "    }\n",
       "</style>\n",
       "<table border=\"1\" class=\"dataframe\">\n",
       "  <thead>\n",
       "    <tr style=\"text-align: right;\">\n",
       "      <th></th>\n",
       "      <th>S.NO</th>\n",
       "      <th>UG</th>\n",
       "      <th>PG</th>\n",
       "    </tr>\n",
       "  </thead>\n",
       "  <tbody>\n",
       "    <tr>\n",
       "      <th>count</th>\n",
       "      <td>667.000000</td>\n",
       "      <td>664.000000</td>\n",
       "      <td>54.000000</td>\n",
       "    </tr>\n",
       "    <tr>\n",
       "      <th>mean</th>\n",
       "      <td>334.000000</td>\n",
       "      <td>57.429444</td>\n",
       "      <td>72.465617</td>\n",
       "    </tr>\n",
       "    <tr>\n",
       "      <th>std</th>\n",
       "      <td>192.690598</td>\n",
       "      <td>24.673544</td>\n",
       "      <td>7.537537</td>\n",
       "    </tr>\n",
       "    <tr>\n",
       "      <th>min</th>\n",
       "      <td>1.000000</td>\n",
       "      <td>0.519000</td>\n",
       "      <td>58.500000</td>\n",
       "    </tr>\n",
       "    <tr>\n",
       "      <th>25%</th>\n",
       "      <td>167.500000</td>\n",
       "      <td>55.000000</td>\n",
       "      <td>67.020833</td>\n",
       "    </tr>\n",
       "    <tr>\n",
       "      <th>50%</th>\n",
       "      <td>334.000000</td>\n",
       "      <td>65.000000</td>\n",
       "      <td>73.375000</td>\n",
       "    </tr>\n",
       "    <tr>\n",
       "      <th>75%</th>\n",
       "      <td>500.500000</td>\n",
       "      <td>72.152500</td>\n",
       "      <td>78.000000</td>\n",
       "    </tr>\n",
       "    <tr>\n",
       "      <th>max</th>\n",
       "      <td>667.000000</td>\n",
       "      <td>89.000000</td>\n",
       "      <td>86.000000</td>\n",
       "    </tr>\n",
       "  </tbody>\n",
       "</table>\n",
       "</div>"
      ],
      "text/plain": [
       "             S.NO          UG         PG\n",
       "count  667.000000  664.000000  54.000000\n",
       "mean   334.000000   57.429444  72.465617\n",
       "std    192.690598   24.673544   7.537537\n",
       "min      1.000000    0.519000  58.500000\n",
       "25%    167.500000   55.000000  67.020833\n",
       "50%    334.000000   65.000000  73.375000\n",
       "75%    500.500000   72.152500  78.000000\n",
       "max    667.000000   89.000000  86.000000"
      ]
     },
     "execution_count": 12,
     "metadata": {},
     "output_type": "execute_result"
    }
   ],
   "source": [
    "data1.describe()"
   ]
  },
  {
   "cell_type": "code",
   "execution_count": 13,
   "metadata": {},
   "outputs": [
    {
     "name": "stdout",
     "output_type": "stream",
     "text": [
      "<class 'pandas.core.frame.DataFrame'>\n",
      "RangeIndex: 667 entries, 0 to 666\n",
      "Data columns (total 8 columns):\n",
      " #   Column   Non-Null Count  Dtype  \n",
      "---  ------   --------------  -----  \n",
      " 0   S.NO     667 non-null    int64  \n",
      " 1   DEPT     667 non-null    object \n",
      " 2   COLLEGE  667 non-null    object \n",
      " 3   GENDER   667 non-null    object \n",
      " 4   10TH     666 non-null    object \n",
      " 5   12TH     663 non-null    object \n",
      " 6   UG       664 non-null    float64\n",
      " 7   PG       54 non-null     float64\n",
      "dtypes: float64(2), int64(1), object(5)\n",
      "memory usage: 41.8+ KB\n"
     ]
    }
   ],
   "source": [
    "data1.info()"
   ]
  },
  {
   "cell_type": "markdown",
   "metadata": {},
   "source": [
    "## Check for the null values inside the data"
   ]
  },
  {
   "cell_type": "code",
   "execution_count": 14,
   "metadata": {},
   "outputs": [
    {
     "data": {
      "text/html": [
       "<div>\n",
       "<style scoped>\n",
       "    .dataframe tbody tr th:only-of-type {\n",
       "        vertical-align: middle;\n",
       "    }\n",
       "\n",
       "    .dataframe tbody tr th {\n",
       "        vertical-align: top;\n",
       "    }\n",
       "\n",
       "    .dataframe thead th {\n",
       "        text-align: right;\n",
       "    }\n",
       "</style>\n",
       "<table border=\"1\" class=\"dataframe\">\n",
       "  <thead>\n",
       "    <tr style=\"text-align: right;\">\n",
       "      <th></th>\n",
       "      <th>0</th>\n",
       "    </tr>\n",
       "  </thead>\n",
       "  <tbody>\n",
       "    <tr>\n",
       "      <th>S.NO</th>\n",
       "      <td>0</td>\n",
       "    </tr>\n",
       "    <tr>\n",
       "      <th>DEPT</th>\n",
       "      <td>0</td>\n",
       "    </tr>\n",
       "    <tr>\n",
       "      <th>COLLEGE</th>\n",
       "      <td>0</td>\n",
       "    </tr>\n",
       "    <tr>\n",
       "      <th>GENDER</th>\n",
       "      <td>0</td>\n",
       "    </tr>\n",
       "    <tr>\n",
       "      <th>10TH</th>\n",
       "      <td>1</td>\n",
       "    </tr>\n",
       "    <tr>\n",
       "      <th>12TH</th>\n",
       "      <td>4</td>\n",
       "    </tr>\n",
       "    <tr>\n",
       "      <th>UG</th>\n",
       "      <td>3</td>\n",
       "    </tr>\n",
       "    <tr>\n",
       "      <th>PG</th>\n",
       "      <td>613</td>\n",
       "    </tr>\n",
       "  </tbody>\n",
       "</table>\n",
       "</div>"
      ],
      "text/plain": [
       "           0\n",
       "S.NO       0\n",
       "DEPT       0\n",
       "COLLEGE    0\n",
       "GENDER     0\n",
       "10TH       1\n",
       "12TH       4\n",
       "UG         3\n",
       "PG       613"
      ]
     },
     "execution_count": 14,
     "metadata": {},
     "output_type": "execute_result"
    }
   ],
   "source": [
    "data1.isna().sum().to_frame()"
   ]
  },
  {
   "cell_type": "markdown",
   "metadata": {},
   "source": [
    "## Using forward fill method to fill the null values"
   ]
  },
  {
   "cell_type": "code",
   "execution_count": 15,
   "metadata": {},
   "outputs": [],
   "source": [
    "data1.fillna(method='ffill',inplace=True)"
   ]
  },
  {
   "cell_type": "code",
   "execution_count": 16,
   "metadata": {},
   "outputs": [
    {
     "data": {
      "text/html": [
       "<div>\n",
       "<style scoped>\n",
       "    .dataframe tbody tr th:only-of-type {\n",
       "        vertical-align: middle;\n",
       "    }\n",
       "\n",
       "    .dataframe tbody tr th {\n",
       "        vertical-align: top;\n",
       "    }\n",
       "\n",
       "    .dataframe thead th {\n",
       "        text-align: right;\n",
       "    }\n",
       "</style>\n",
       "<table border=\"1\" class=\"dataframe\">\n",
       "  <thead>\n",
       "    <tr style=\"text-align: right;\">\n",
       "      <th></th>\n",
       "      <th>S.NO</th>\n",
       "      <th>DEPT</th>\n",
       "      <th>COLLEGE</th>\n",
       "      <th>GENDER</th>\n",
       "      <th>10TH</th>\n",
       "      <th>12TH</th>\n",
       "      <th>UG</th>\n",
       "      <th>PG</th>\n",
       "    </tr>\n",
       "  </thead>\n",
       "  <tbody>\n",
       "    <tr>\n",
       "      <th>0</th>\n",
       "      <td>0</td>\n",
       "      <td>0</td>\n",
       "      <td>0</td>\n",
       "      <td>0</td>\n",
       "      <td>0</td>\n",
       "      <td>0</td>\n",
       "      <td>0</td>\n",
       "      <td>436</td>\n",
       "    </tr>\n",
       "  </tbody>\n",
       "</table>\n",
       "</div>"
      ],
      "text/plain": [
       "   S.NO  DEPT  COLLEGE  GENDER  10TH  12TH  UG   PG\n",
       "0     0     0        0       0     0     0   0  436"
      ]
     },
     "execution_count": 16,
     "metadata": {},
     "output_type": "execute_result"
    }
   ],
   "source": [
    "data1.isna().sum().to_frame().T"
   ]
  },
  {
   "cell_type": "markdown",
   "metadata": {},
   "source": [
    "## Using backward fill method to fill the null values"
   ]
  },
  {
   "cell_type": "code",
   "execution_count": 17,
   "metadata": {},
   "outputs": [],
   "source": [
    "data1.fillna(method='bfill',inplace=True)"
   ]
  },
  {
   "cell_type": "code",
   "execution_count": 18,
   "metadata": {
    "scrolled": true
   },
   "outputs": [
    {
     "data": {
      "text/html": [
       "<div>\n",
       "<style scoped>\n",
       "    .dataframe tbody tr th:only-of-type {\n",
       "        vertical-align: middle;\n",
       "    }\n",
       "\n",
       "    .dataframe tbody tr th {\n",
       "        vertical-align: top;\n",
       "    }\n",
       "\n",
       "    .dataframe thead th {\n",
       "        text-align: right;\n",
       "    }\n",
       "</style>\n",
       "<table border=\"1\" class=\"dataframe\">\n",
       "  <thead>\n",
       "    <tr style=\"text-align: right;\">\n",
       "      <th></th>\n",
       "      <th>S.NO</th>\n",
       "      <th>DEPT</th>\n",
       "      <th>COLLEGE</th>\n",
       "      <th>GENDER</th>\n",
       "      <th>10TH</th>\n",
       "      <th>12TH</th>\n",
       "      <th>UG</th>\n",
       "      <th>PG</th>\n",
       "    </tr>\n",
       "  </thead>\n",
       "  <tbody>\n",
       "    <tr>\n",
       "      <th>0</th>\n",
       "      <td>0</td>\n",
       "      <td>0</td>\n",
       "      <td>0</td>\n",
       "      <td>0</td>\n",
       "      <td>0</td>\n",
       "      <td>0</td>\n",
       "      <td>0</td>\n",
       "      <td>0</td>\n",
       "    </tr>\n",
       "  </tbody>\n",
       "</table>\n",
       "</div>"
      ],
      "text/plain": [
       "   S.NO  DEPT  COLLEGE  GENDER  10TH  12TH  UG  PG\n",
       "0     0     0        0       0     0     0   0   0"
      ]
     },
     "execution_count": 18,
     "metadata": {},
     "output_type": "execute_result"
    }
   ],
   "source": [
    "data1.isna().sum().to_frame().T"
   ]
  },
  {
   "cell_type": "code",
   "execution_count": 19,
   "metadata": {},
   "outputs": [
    {
     "data": {
      "text/html": [
       "<div>\n",
       "<style scoped>\n",
       "    .dataframe tbody tr th:only-of-type {\n",
       "        vertical-align: middle;\n",
       "    }\n",
       "\n",
       "    .dataframe tbody tr th {\n",
       "        vertical-align: top;\n",
       "    }\n",
       "\n",
       "    .dataframe thead th {\n",
       "        text-align: right;\n",
       "    }\n",
       "</style>\n",
       "<table border=\"1\" class=\"dataframe\">\n",
       "  <thead>\n",
       "    <tr style=\"text-align: right;\">\n",
       "      <th></th>\n",
       "      <th>S.NO</th>\n",
       "      <th>DEPT</th>\n",
       "      <th>COLLEGE</th>\n",
       "      <th>GENDER</th>\n",
       "      <th>10TH</th>\n",
       "      <th>12TH</th>\n",
       "      <th>UG</th>\n",
       "      <th>PG</th>\n",
       "    </tr>\n",
       "  </thead>\n",
       "  <tbody>\n",
       "    <tr>\n",
       "      <th>0</th>\n",
       "      <td>1</td>\n",
       "      <td>B. Sc IT</td>\n",
       "      <td>NEHRU ARTS AND SCIENCE COLLEGE</td>\n",
       "      <td>Female</td>\n",
       "      <td>64</td>\n",
       "      <td>66</td>\n",
       "      <td>67.0</td>\n",
       "      <td>65.25</td>\n",
       "    </tr>\n",
       "    <tr>\n",
       "      <th>1</th>\n",
       "      <td>2</td>\n",
       "      <td>B. Sc IT</td>\n",
       "      <td>NEHRU ARTS AND SCIENCE COLLEGE</td>\n",
       "      <td>Male</td>\n",
       "      <td>80.8</td>\n",
       "      <td>51</td>\n",
       "      <td>67.0</td>\n",
       "      <td>65.25</td>\n",
       "    </tr>\n",
       "    <tr>\n",
       "      <th>2</th>\n",
       "      <td>3</td>\n",
       "      <td>B. Sc IT</td>\n",
       "      <td>NEHRU ARTS AND SCIENCE COLLEGE</td>\n",
       "      <td>Female</td>\n",
       "      <td>92</td>\n",
       "      <td>66</td>\n",
       "      <td>71.0</td>\n",
       "      <td>65.25</td>\n",
       "    </tr>\n",
       "    <tr>\n",
       "      <th>3</th>\n",
       "      <td>4</td>\n",
       "      <td>B. Sc IT</td>\n",
       "      <td>NEHRU ARTS AND SCIENCE COLLEGE</td>\n",
       "      <td>Male</td>\n",
       "      <td>67</td>\n",
       "      <td>53</td>\n",
       "      <td>60.0</td>\n",
       "      <td>65.25</td>\n",
       "    </tr>\n",
       "    <tr>\n",
       "      <th>4</th>\n",
       "      <td>5</td>\n",
       "      <td>B. Sc IT</td>\n",
       "      <td>NEHRU ARTS AND SCIENCE COLLEGE</td>\n",
       "      <td>Male</td>\n",
       "      <td>86</td>\n",
       "      <td>72</td>\n",
       "      <td>6.5</td>\n",
       "      <td>65.25</td>\n",
       "    </tr>\n",
       "  </tbody>\n",
       "</table>\n",
       "</div>"
      ],
      "text/plain": [
       "   S.NO      DEPT                         COLLEGE  GENDER  10TH 12TH    UG  \\\n",
       "0     1  B. Sc IT  NEHRU ARTS AND SCIENCE COLLEGE  Female    64   66  67.0   \n",
       "1     2  B. Sc IT  NEHRU ARTS AND SCIENCE COLLEGE    Male  80.8   51  67.0   \n",
       "2     3  B. Sc IT  NEHRU ARTS AND SCIENCE COLLEGE  Female    92   66  71.0   \n",
       "3     4  B. Sc IT  NEHRU ARTS AND SCIENCE COLLEGE    Male    67   53  60.0   \n",
       "4     5  B. Sc IT  NEHRU ARTS AND SCIENCE COLLEGE    Male    86   72   6.5   \n",
       "\n",
       "      PG  \n",
       "0  65.25  \n",
       "1  65.25  \n",
       "2  65.25  \n",
       "3  65.25  \n",
       "4  65.25  "
      ]
     },
     "execution_count": 19,
     "metadata": {},
     "output_type": "execute_result"
    }
   ],
   "source": [
    "data1.head()"
   ]
  },
  {
   "cell_type": "code",
   "execution_count": 20,
   "metadata": {},
   "outputs": [
    {
     "data": {
      "text/plain": [
       "[(70.0, 25),\n",
       " (69.0, 22),\n",
       " (62.0, 22),\n",
       " (68.0, 20),\n",
       " (63.0, 18),\n",
       " (72.0, 17),\n",
       " (75.0, 16),\n",
       " (65.0, 15),\n",
       " (54.0, 14),\n",
       " (80.0, 14),\n",
       " (78.0, 14),\n",
       " (71.0, 12),\n",
       " (60.0, 12),\n",
       " (64.0, 12),\n",
       " (58.0, 12),\n",
       " (67.0, 10),\n",
       " (61.0, 10),\n",
       " (51.0, 10),\n",
       " (74.0, 10),\n",
       " (79.0, 10),\n",
       " (66.0, 9),\n",
       " (84.0, 9),\n",
       " (52.0, 9),\n",
       " (77.0, 9),\n",
       " (59.0, 8),\n",
       " (57.0, 8),\n",
       " (83.0, 7),\n",
       " (56.0, 7),\n",
       " (82.0, 5),\n",
       " (76.0, 5),\n",
       " (81.0, 5),\n",
       " (50.0, 5),\n",
       " (48.0, 4),\n",
       " (53.0, 4),\n",
       " (55.0, 4),\n",
       " (7.3, 4),\n",
       " (6.8, 3),\n",
       " (73.0, 2),\n",
       " (69.8, 2),\n",
       " (69.3, 2),\n",
       " (66.5, 2),\n",
       " (68.96296296296296, 2),\n",
       " (0.57, 2),\n",
       " (0.64, 2),\n",
       " (0.712, 2),\n",
       " (0.7, 2),\n",
       " (0.68, 2),\n",
       " (63.25, 2),\n",
       " (76.47058823529412, 2),\n",
       " (78.58823529411765, 2),\n",
       " (49.0, 2),\n",
       " (60.5, 2),\n",
       " (7.5, 2),\n",
       " (6.98, 2),\n",
       " (6.5, 1),\n",
       " (61.4, 1),\n",
       " (68.3, 1),\n",
       " (74.71, 1),\n",
       " (85.0, 1),\n",
       " (87.0, 1),\n",
       " (60.9, 1),\n",
       " (70.5, 1),\n",
       " (62.6, 1),\n",
       " (58.3, 1),\n",
       " (73.7, 1),\n",
       " (74.6, 1),\n",
       " (71.8, 1),\n",
       " (71.9, 1),\n",
       " (83.5, 1),\n",
       " (75.8, 1),\n",
       " (72.9, 1),\n",
       " (79.6, 1),\n",
       " (63.7, 1),\n",
       " (61.6, 1),\n",
       " (61.1, 1),\n",
       " (72.3, 1),\n",
       " (77.55555555555556, 1),\n",
       " (82.44444444444444, 1),\n",
       " (68.51851851851852, 1),\n",
       " (58.81481481481482, 1),\n",
       " (56.222222222222214, 1),\n",
       " (64.88888888888889, 1),\n",
       " (64.96296296296296, 1),\n",
       " (50.44444444444445, 1),\n",
       " (64.44444444444444, 1),\n",
       " (57.407407407407405, 1),\n",
       " (65.70370370370371, 1),\n",
       " (47.11111111111111, 1),\n",
       " (63.18518518518519, 1),\n",
       " (56.2962962962963, 1),\n",
       " (65.62962962962963, 1),\n",
       " (61.55555555555555, 1),\n",
       " (46.666666666666664, 1),\n",
       " (71.03703703703704, 1),\n",
       " (70.74074074074073, 1),\n",
       " (69.33333333333334, 1),\n",
       " (72.07407407407408, 1),\n",
       " (60.14814814814815, 1),\n",
       " (59.62962962962963, 1),\n",
       " (64.66666666666666, 1),\n",
       " (0.746, 1),\n",
       " (0.739, 1),\n",
       " (0.6016, 1),\n",
       " (0.76, 1),\n",
       " (63.8, 1),\n",
       " (0.747, 1),\n",
       " (0.656, 1),\n",
       " (0.61, 1),\n",
       " (0.585, 1),\n",
       " (0.701, 1),\n",
       " (0.779, 1),\n",
       " (0.6228, 1),\n",
       " (0.735, 1),\n",
       " (0.575, 1),\n",
       " (0.595, 1),\n",
       " (0.668, 1),\n",
       " (0.77, 1),\n",
       " (0.615, 1),\n",
       " (0.745, 1),\n",
       " (0.65, 1),\n",
       " (0.751, 1),\n",
       " (0.75, 1),\n",
       " (0.6, 1),\n",
       " (0.732, 1),\n",
       " (0.56, 1),\n",
       " (0.682, 1),\n",
       " (0.54, 1),\n",
       " (0.579, 1),\n",
       " (0.63, 1),\n",
       " (0.703, 1),\n",
       " (0.663, 1),\n",
       " (0.806, 1),\n",
       " (0.677, 1),\n",
       " (0.673, 1),\n",
       " (0.716, 1),\n",
       " (0.713, 1),\n",
       " (0.622, 1),\n",
       " (0.82, 1),\n",
       " (0.754, 1),\n",
       " (0.519, 1),\n",
       " (0.8, 1),\n",
       " (69.785, 1),\n",
       " (66.33333333333333, 1),\n",
       " (66.785, 1),\n",
       " (67.3575, 1),\n",
       " (75.20166666666667, 1),\n",
       " (68.27416666666667, 1),\n",
       " (68.63166666666667, 1),\n",
       " (65.40583333333333, 1),\n",
       " (71.72583333333333, 1),\n",
       " (62.23916666666666, 1),\n",
       " (61.1775, 1),\n",
       " (62.155833333333334, 1),\n",
       " (75.285, 1),\n",
       " (72.58333333333333, 1),\n",
       " (67.25, 1),\n",
       " (67.75, 1),\n",
       " (67.83333333333333, 1),\n",
       " (71.45166666666667, 1),\n",
       " (62.4047619047619, 1),\n",
       " (77.98916666666668, 1),\n",
       " (73.27416666666667, 1),\n",
       " (74.66666666666667, 1),\n",
       " (69.33333333333333, 1),\n",
       " (72.215, 1),\n",
       " (68.34416666666667, 1),\n",
       " (58.3925, 1),\n",
       " (74.44083333333333, 1),\n",
       " (75.27416666666667, 1),\n",
       " (77.88166666666667, 1),\n",
       " (72.98916666666668, 1),\n",
       " (76.44083333333333, 1),\n",
       " (70.9408333333333, 1),\n",
       " (59.55916666666666, 1),\n",
       " (70.4275, 1),\n",
       " (63.44083333333333, 1),\n",
       " (58.61833333333333, 1),\n",
       " (72.41666666666667, 1),\n",
       " (78.04833333333333, 1),\n",
       " (74.08333333333333, 1),\n",
       " (69.11833333333333, 1),\n",
       " (66.98916666666666, 1),\n",
       " (69.77416666666667, 1),\n",
       " (84.16666666666667, 1),\n",
       " (86.4275, 1),\n",
       " (81.47583333333333, 1),\n",
       " (54.20166666666667, 1),\n",
       " (72.13166666666667, 1),\n",
       " (80.8575, 1),\n",
       " (65.94083333333333, 1),\n",
       " (73.30952380952381, 1),\n",
       " (72.61833333333333, 1),\n",
       " (79.13166666666667, 1),\n",
       " (60.344166666666666, 1),\n",
       " (61.02416666666667, 1),\n",
       " (47.0, 1),\n",
       " (80.47058823529412, 1),\n",
       " (73.1764705882353, 1),\n",
       " (71.05882352941177, 1),\n",
       " (83.05882352941177, 1),\n",
       " (82.11764705882352, 1),\n",
       " (82.82352941176471, 1),\n",
       " (80.94117647058823, 1),\n",
       " (77.88235294117646, 1),\n",
       " (78.11764705882352, 1),\n",
       " (76.23529411764706, 1),\n",
       " (79.52941176470588, 1),\n",
       " (73.6470588235294, 1),\n",
       " (75.29411764705883, 1),\n",
       " (74.58823529411764, 1),\n",
       " (81.17647058823529, 1),\n",
       " (72.23529411764706, 1),\n",
       " (45.0, 1),\n",
       " (40.0, 1),\n",
       " (61.22, 1),\n",
       " (54.5, 1),\n",
       " (68.8, 1),\n",
       " (64.4, 1),\n",
       " (62.5, 1),\n",
       " (66.3, 1),\n",
       " (48.7, 1),\n",
       " (79.4, 1),\n",
       " (68.4, 1),\n",
       " (56.4, 1),\n",
       " (58.5, 1),\n",
       " (74.5, 1),\n",
       " (83.25, 1),\n",
       " (68.5, 1),\n",
       " (56.8, 1),\n",
       " (52.5, 1),\n",
       " (63.75, 1),\n",
       " (79.8, 1),\n",
       " (64.5, 1),\n",
       " (64.25, 1),\n",
       " (46.25, 1),\n",
       " (84.25, 1),\n",
       " (53.5, 1),\n",
       " (68.75, 1),\n",
       " (70.25, 1),\n",
       " (51.5, 1),\n",
       " (89.0, 1),\n",
       " (46.0, 1),\n",
       " (78.5, 1),\n",
       " (71.5, 1),\n",
       " (7.35, 1),\n",
       " (6.58, 1),\n",
       " (7.07, 1),\n",
       " (7.0, 1),\n",
       " (6.1, 1),\n",
       " (7.12, 1),\n",
       " (7.42, 1),\n",
       " (6.61, 1),\n",
       " (7.23, 1),\n",
       " (6.82, 1),\n",
       " (6.94, 1),\n",
       " (7.68, 1),\n",
       " (6.48, 1),\n",
       " (7.75, 1),\n",
       " (7.26, 1),\n",
       " (7.6, 1),\n",
       " (6.46, 1),\n",
       " (7.02, 1),\n",
       " (8.03, 1),\n",
       " (6.4, 1),\n",
       " (7.73, 1),\n",
       " (6.72, 1),\n",
       " (6.95, 1),\n",
       " (8.29, 1),\n",
       " (6.7, 1),\n",
       " (6.65, 1),\n",
       " (6.67, 1),\n",
       " (6.97, 1),\n",
       " (6.86, 1),\n",
       " (7.18, 1),\n",
       " (6.64, 1),\n",
       " (7.57, 1),\n",
       " (6.84, 1),\n",
       " (6.78, 1),\n",
       " (7.1, 1),\n",
       " (7.46, 1),\n",
       " (7.82, 1),\n",
       " (6.55, 1),\n",
       " (7.29, 1),\n",
       " (7.13, 1),\n",
       " (8.2, 1),\n",
       " (8.1, 1),\n",
       " (7.2, 1)]"
      ]
     },
     "execution_count": 20,
     "metadata": {},
     "output_type": "execute_result"
    }
   ],
   "source": [
    "Counter(data1.UG).most_common()"
   ]
  },
  {
   "cell_type": "markdown",
   "metadata": {},
   "source": [
    "### First let's check for non float values in 10TH and 12TH"
   ]
  },
  {
   "cell_type": "code",
   "execution_count": 21,
   "metadata": {},
   "outputs": [],
   "source": [
    "data1.loc[data1['10TH'] == \"NRI\",'10TH']=60\n",
    "data1.loc[data1['10TH'] == \"NRI                                         68\", '10TH'] = 68\n",
    "data1.loc[data1['10TH'] == \"NRI                                         62\", '10TH'] = 62\n",
    "data1.loc[data1['10TH'] == \"A\",'10TH']=60"
   ]
  },
  {
   "cell_type": "code",
   "execution_count": 22,
   "metadata": {},
   "outputs": [],
   "source": [
    "data1.loc[data1['12TH'] == \"NRI\",'12TH']=60              # replacing this with some average passing marks\n",
    "data1.loc[data1['12TH'] == \"nan\",'12TH']=60              # replacing this with some average passing marks\n",
    "data1.loc[data1['12TH'] == \"88 (Polytechnic)\",'12TH']=88\n",
    "data1.loc[data1['12TH'] == \"   57 (Polytechnic)\",'12TH']=57\n",
    "data1.loc[data1['12TH'] == \"A\",'12TH']=60               # replacing this with some average passing marks"
   ]
  },
  {
   "cell_type": "markdown",
   "metadata": {},
   "source": [
    "### Let's first work on decimals and percentage values :\n",
    "* UG , PG , 10TH and 12TH\n",
    "\n",
    "1. Column has values starting decimals like .746,.685 \n",
    "2. Column has values like 6.77 , 8.80 \n",
    "\n",
    "* Approach used here : multiply and clean the data by 10 or 100 "
   ]
  },
  {
   "cell_type": "code",
   "execution_count": 23,
   "metadata": {},
   "outputs": [],
   "source": [
    "def correct_startdecimal(x): \n",
    "    if (np.floor(x) < 1.0):\n",
    "        x = (x*100)\n",
    "    return x"
   ]
  },
  {
   "cell_type": "code",
   "execution_count": 24,
   "metadata": {},
   "outputs": [
    {
     "data": {
      "text/plain": [
       "array([66, 51, 53, 72, 70, 56, 63, 75, 58, 72.3, 65, 71, 60.4, 60, 55, 73,\n",
       "       69, 76, 62, 68, 57, 61.9, 68.8, 59, 54, 79, 77, 81, 67, 88, 80, 78,\n",
       "       85, 86, 82, 93, 64, 84, 74, 71.2, 72.4, 61, 77.4, 83.6, 72.9, 66.4,\n",
       "       63.5, 88.67, 61.1, 71.4, 62.58, 56.8, 73.7, 84.4, 89, 83, 48, 0.7,\n",
       "       0.82, 0.84, 0.75, 0.74, 0.93, 0.71, 0.872, 0.81, 0.8, 0.695, 0.794,\n",
       "       0.69, 0.76, 0.89, 0.6, 73.5, 0.83, 0.865, 0.79, 0.73, 0.65, 0.64,\n",
       "       0.87, 0.78, 0.77, 0.72, 0.88, 0.86, 0.85, 0.55, 79.92, 60.8, 72.6,\n",
       "       68.4, 90, 79.58, 64.5, 69.5, 65.6, 77.83, 89.83, 63.58, 83.58,\n",
       "       79.25, 65.5, 87, 92, 96, 91, 92.7, 94, 50, 40, 95, 44, 52, 83.5,\n",
       "       81.69, 81.6, 75.5, 92.5, 85.1, 86.3, 84.5, 88.4, 74.8, 89.3, 64.8,\n",
       "       77.9], dtype=object)"
      ]
     },
     "execution_count": 24,
     "metadata": {},
     "output_type": "execute_result"
    }
   ],
   "source": [
    "data1['12TH'].unique()"
   ]
  },
  {
   "cell_type": "code",
   "execution_count": 25,
   "metadata": {},
   "outputs": [],
   "source": [
    "data1['UG1']= data1['UG'].apply(lambda x : correct_startdecimal(x))\n",
    "data1['PG1']= data1['PG'].apply(lambda x : correct_startdecimal(x))\n",
    "data1['10TH1']= data1['10TH'].apply(lambda x : correct_startdecimal(x))\n",
    "data1['12TH1']= data1['12TH'].apply(lambda x : correct_startdecimal(x))"
   ]
  },
  {
   "cell_type": "code",
   "execution_count": 26,
   "metadata": {},
   "outputs": [
    {
     "data": {
      "text/html": [
       "<div>\n",
       "<style scoped>\n",
       "    .dataframe tbody tr th:only-of-type {\n",
       "        vertical-align: middle;\n",
       "    }\n",
       "\n",
       "    .dataframe tbody tr th {\n",
       "        vertical-align: top;\n",
       "    }\n",
       "\n",
       "    .dataframe thead th {\n",
       "        text-align: right;\n",
       "    }\n",
       "</style>\n",
       "<table border=\"1\" class=\"dataframe\">\n",
       "  <thead>\n",
       "    <tr style=\"text-align: right;\">\n",
       "      <th></th>\n",
       "      <th>S.NO</th>\n",
       "      <th>DEPT</th>\n",
       "      <th>COLLEGE</th>\n",
       "      <th>GENDER</th>\n",
       "      <th>10TH</th>\n",
       "      <th>12TH</th>\n",
       "      <th>UG</th>\n",
       "      <th>PG</th>\n",
       "      <th>UG1</th>\n",
       "      <th>PG1</th>\n",
       "      <th>10TH1</th>\n",
       "      <th>12TH1</th>\n",
       "      <th>cleanedUG</th>\n",
       "      <th>cleanedPG</th>\n",
       "      <th>cleaned10TH</th>\n",
       "      <th>cleaned12TH</th>\n",
       "    </tr>\n",
       "  </thead>\n",
       "  <tbody>\n",
       "    <tr>\n",
       "      <th>0</th>\n",
       "      <td>1</td>\n",
       "      <td>B. Sc IT</td>\n",
       "      <td>NEHRU ARTS AND SCIENCE COLLEGE</td>\n",
       "      <td>Female</td>\n",
       "      <td>64</td>\n",
       "      <td>66</td>\n",
       "      <td>67.00</td>\n",
       "      <td>65.25</td>\n",
       "      <td>67.00</td>\n",
       "      <td>65.25</td>\n",
       "      <td>64.0</td>\n",
       "      <td>66.0</td>\n",
       "      <td>67.0</td>\n",
       "      <td>65.25</td>\n",
       "      <td>64.0</td>\n",
       "      <td>66.0</td>\n",
       "    </tr>\n",
       "    <tr>\n",
       "      <th>1</th>\n",
       "      <td>2</td>\n",
       "      <td>B. Sc IT</td>\n",
       "      <td>NEHRU ARTS AND SCIENCE COLLEGE</td>\n",
       "      <td>Male</td>\n",
       "      <td>80.8</td>\n",
       "      <td>51</td>\n",
       "      <td>67.00</td>\n",
       "      <td>65.25</td>\n",
       "      <td>67.00</td>\n",
       "      <td>65.25</td>\n",
       "      <td>80.8</td>\n",
       "      <td>51.0</td>\n",
       "      <td>67.0</td>\n",
       "      <td>65.25</td>\n",
       "      <td>80.8</td>\n",
       "      <td>51.0</td>\n",
       "    </tr>\n",
       "    <tr>\n",
       "      <th>2</th>\n",
       "      <td>3</td>\n",
       "      <td>B. Sc IT</td>\n",
       "      <td>NEHRU ARTS AND SCIENCE COLLEGE</td>\n",
       "      <td>Female</td>\n",
       "      <td>92</td>\n",
       "      <td>66</td>\n",
       "      <td>71.00</td>\n",
       "      <td>65.25</td>\n",
       "      <td>71.00</td>\n",
       "      <td>65.25</td>\n",
       "      <td>92.0</td>\n",
       "      <td>66.0</td>\n",
       "      <td>71.0</td>\n",
       "      <td>65.25</td>\n",
       "      <td>92.0</td>\n",
       "      <td>66.0</td>\n",
       "    </tr>\n",
       "    <tr>\n",
       "      <th>3</th>\n",
       "      <td>4</td>\n",
       "      <td>B. Sc IT</td>\n",
       "      <td>NEHRU ARTS AND SCIENCE COLLEGE</td>\n",
       "      <td>Male</td>\n",
       "      <td>67</td>\n",
       "      <td>53</td>\n",
       "      <td>60.00</td>\n",
       "      <td>65.25</td>\n",
       "      <td>60.00</td>\n",
       "      <td>65.25</td>\n",
       "      <td>67.0</td>\n",
       "      <td>53.0</td>\n",
       "      <td>60.0</td>\n",
       "      <td>65.25</td>\n",
       "      <td>67.0</td>\n",
       "      <td>53.0</td>\n",
       "    </tr>\n",
       "    <tr>\n",
       "      <th>4</th>\n",
       "      <td>5</td>\n",
       "      <td>B. Sc IT</td>\n",
       "      <td>NEHRU ARTS AND SCIENCE COLLEGE</td>\n",
       "      <td>Male</td>\n",
       "      <td>86</td>\n",
       "      <td>72</td>\n",
       "      <td>6.50</td>\n",
       "      <td>65.25</td>\n",
       "      <td>6.50</td>\n",
       "      <td>65.25</td>\n",
       "      <td>86.0</td>\n",
       "      <td>72.0</td>\n",
       "      <td>65.0</td>\n",
       "      <td>65.25</td>\n",
       "      <td>86.0</td>\n",
       "      <td>72.0</td>\n",
       "    </tr>\n",
       "    <tr>\n",
       "      <th>...</th>\n",
       "      <td>...</td>\n",
       "      <td>...</td>\n",
       "      <td>...</td>\n",
       "      <td>...</td>\n",
       "      <td>...</td>\n",
       "      <td>...</td>\n",
       "      <td>...</td>\n",
       "      <td>...</td>\n",
       "      <td>...</td>\n",
       "      <td>...</td>\n",
       "      <td>...</td>\n",
       "      <td>...</td>\n",
       "      <td>...</td>\n",
       "      <td>...</td>\n",
       "      <td>...</td>\n",
       "      <td>...</td>\n",
       "    </tr>\n",
       "    <tr>\n",
       "      <th>662</th>\n",
       "      <td>663</td>\n",
       "      <td>EEE</td>\n",
       "      <td>NIET</td>\n",
       "      <td>FEMALE</td>\n",
       "      <td>78</td>\n",
       "      <td>72</td>\n",
       "      <td>7.13</td>\n",
       "      <td>70.00</td>\n",
       "      <td>7.13</td>\n",
       "      <td>70.00</td>\n",
       "      <td>78.0</td>\n",
       "      <td>72.0</td>\n",
       "      <td>71.3</td>\n",
       "      <td>70.00</td>\n",
       "      <td>78.0</td>\n",
       "      <td>72.0</td>\n",
       "    </tr>\n",
       "    <tr>\n",
       "      <th>663</th>\n",
       "      <td>664</td>\n",
       "      <td>CSE</td>\n",
       "      <td>NIT</td>\n",
       "      <td>Female</td>\n",
       "      <td>98</td>\n",
       "      <td>83</td>\n",
       "      <td>8.20</td>\n",
       "      <td>70.00</td>\n",
       "      <td>8.20</td>\n",
       "      <td>70.00</td>\n",
       "      <td>98.0</td>\n",
       "      <td>83.0</td>\n",
       "      <td>82.0</td>\n",
       "      <td>70.00</td>\n",
       "      <td>98.0</td>\n",
       "      <td>83.0</td>\n",
       "    </tr>\n",
       "    <tr>\n",
       "      <th>664</th>\n",
       "      <td>665</td>\n",
       "      <td>CSE</td>\n",
       "      <td>NIT</td>\n",
       "      <td>Female</td>\n",
       "      <td>86</td>\n",
       "      <td>68</td>\n",
       "      <td>7.50</td>\n",
       "      <td>70.00</td>\n",
       "      <td>7.50</td>\n",
       "      <td>70.00</td>\n",
       "      <td>86.0</td>\n",
       "      <td>68.0</td>\n",
       "      <td>75.0</td>\n",
       "      <td>70.00</td>\n",
       "      <td>86.0</td>\n",
       "      <td>68.0</td>\n",
       "    </tr>\n",
       "    <tr>\n",
       "      <th>665</th>\n",
       "      <td>666</td>\n",
       "      <td>CSE</td>\n",
       "      <td>NIT</td>\n",
       "      <td>Female</td>\n",
       "      <td>0.88</td>\n",
       "      <td>0.85</td>\n",
       "      <td>8.10</td>\n",
       "      <td>70.00</td>\n",
       "      <td>8.10</td>\n",
       "      <td>70.00</td>\n",
       "      <td>88.0</td>\n",
       "      <td>85.0</td>\n",
       "      <td>81.0</td>\n",
       "      <td>70.00</td>\n",
       "      <td>88.0</td>\n",
       "      <td>85.0</td>\n",
       "    </tr>\n",
       "    <tr>\n",
       "      <th>666</th>\n",
       "      <td>667</td>\n",
       "      <td>CSE</td>\n",
       "      <td>NIT</td>\n",
       "      <td>Female</td>\n",
       "      <td>0.91</td>\n",
       "      <td>0.88</td>\n",
       "      <td>7.20</td>\n",
       "      <td>70.00</td>\n",
       "      <td>7.20</td>\n",
       "      <td>70.00</td>\n",
       "      <td>91.0</td>\n",
       "      <td>88.0</td>\n",
       "      <td>72.0</td>\n",
       "      <td>70.00</td>\n",
       "      <td>91.0</td>\n",
       "      <td>88.0</td>\n",
       "    </tr>\n",
       "  </tbody>\n",
       "</table>\n",
       "<p>667 rows × 16 columns</p>\n",
       "</div>"
      ],
      "text/plain": [
       "     S.NO      DEPT                         COLLEGE  GENDER  10TH  12TH  \\\n",
       "0       1  B. Sc IT  NEHRU ARTS AND SCIENCE COLLEGE  Female    64    66   \n",
       "1       2  B. Sc IT  NEHRU ARTS AND SCIENCE COLLEGE    Male  80.8    51   \n",
       "2       3  B. Sc IT  NEHRU ARTS AND SCIENCE COLLEGE  Female    92    66   \n",
       "3       4  B. Sc IT  NEHRU ARTS AND SCIENCE COLLEGE    Male    67    53   \n",
       "4       5  B. Sc IT  NEHRU ARTS AND SCIENCE COLLEGE    Male    86    72   \n",
       "..    ...       ...                             ...     ...   ...   ...   \n",
       "662   663       EEE                            NIET  FEMALE    78    72   \n",
       "663   664       CSE                             NIT  Female    98    83   \n",
       "664   665       CSE                             NIT  Female    86    68   \n",
       "665   666       CSE                             NIT  Female  0.88  0.85   \n",
       "666   667      CSE                              NIT  Female  0.91  0.88   \n",
       "\n",
       "        UG     PG    UG1    PG1  10TH1  12TH1  cleanedUG  cleanedPG  \\\n",
       "0    67.00  65.25  67.00  65.25   64.0   66.0       67.0      65.25   \n",
       "1    67.00  65.25  67.00  65.25   80.8   51.0       67.0      65.25   \n",
       "2    71.00  65.25  71.00  65.25   92.0   66.0       71.0      65.25   \n",
       "3    60.00  65.25  60.00  65.25   67.0   53.0       60.0      65.25   \n",
       "4     6.50  65.25   6.50  65.25   86.0   72.0       65.0      65.25   \n",
       "..     ...    ...    ...    ...    ...    ...        ...        ...   \n",
       "662   7.13  70.00   7.13  70.00   78.0   72.0       71.3      70.00   \n",
       "663   8.20  70.00   8.20  70.00   98.0   83.0       82.0      70.00   \n",
       "664   7.50  70.00   7.50  70.00   86.0   68.0       75.0      70.00   \n",
       "665   8.10  70.00   8.10  70.00   88.0   85.0       81.0      70.00   \n",
       "666   7.20  70.00   7.20  70.00   91.0   88.0       72.0      70.00   \n",
       "\n",
       "     cleaned10TH  cleaned12TH  \n",
       "0           64.0         66.0  \n",
       "1           80.8         51.0  \n",
       "2           92.0         66.0  \n",
       "3           67.0         53.0  \n",
       "4           86.0         72.0  \n",
       "..           ...          ...  \n",
       "662         78.0         72.0  \n",
       "663         98.0         83.0  \n",
       "664         86.0         68.0  \n",
       "665         88.0         85.0  \n",
       "666         91.0         88.0  \n",
       "\n",
       "[667 rows x 16 columns]"
      ]
     },
     "execution_count": 26,
     "metadata": {},
     "output_type": "execute_result"
    }
   ],
   "source": [
    "def correct_middecimal(x):\n",
    "    if (( x >=1.0 ) & (x <= 9.0 )) :\n",
    "        x=(x*10)\n",
    "    return x\n",
    "\n",
    "data1['cleanedUG'] = data1['UG1'].apply(lambda x : correct_middecimal(x))\n",
    "data1['cleanedPG'] = data1['PG1'].apply(lambda x : correct_middecimal(x))\n",
    "data1['cleaned10TH'] = data1['10TH1'].apply(lambda x : correct_middecimal(x))\n",
    "data1['cleaned12TH'] = data1['12TH1'].apply(lambda x : correct_middecimal(x))\n",
    "data1"
   ]
  },
  {
   "cell_type": "markdown",
   "metadata": {},
   "source": [
    "## Approach used for removing percentage\n",
    "1. change the column type to string\n",
    "2. replace % with ''\n",
    "3. change the column type back to float\n",
    "4. drop unused columns like UG and UG1"
   ]
  },
  {
   "cell_type": "code",
   "execution_count": 27,
   "metadata": {},
   "outputs": [],
   "source": [
    "data1['cleanedUG'] = data1['cleanedUG'].astype(str)\n",
    "data1['cleanedPG'] = data1['cleanedPG'].astype(str)\n",
    "data1['cleaned10TH'] = data1['cleaned10TH'].astype(str)\n",
    "data1['cleaned12TH'] = data1['cleaned12TH'].astype(str)"
   ]
  },
  {
   "cell_type": "code",
   "execution_count": 28,
   "metadata": {},
   "outputs": [],
   "source": [
    "def rem_percent(x):\n",
    "    if str(x):\n",
    "        x.replace('%','')\n",
    "    return x\n",
    "\n",
    "data1['cleanedUG'] = data1['cleanedUG'].apply(lambda x : rem_percent(x))\n",
    "data1['cleanedPG'] = data1['cleanedPG'].apply(lambda x : rem_percent(x))\n",
    "data1['cleaned10TH'] = data1['cleaned10TH'].apply(lambda x : rem_percent(x))\n",
    "data1['cleaned12TH'] = data1['cleaned12TH'].apply(lambda x : rem_percent(x))"
   ]
  },
  {
   "cell_type": "code",
   "execution_count": 29,
   "metadata": {},
   "outputs": [],
   "source": [
    "data1['cleanedUG'] = data1['cleanedUG'].astype(float)\n",
    "data1['cleanedPG'] = data1['cleanedPG'].astype(float)\n",
    "data1['cleaned10TH'] = data1['cleaned10TH'].astype(float)\n",
    "data1['cleaned12TH'] = data1['cleaned12TH'].astype(float)"
   ]
  },
  {
   "cell_type": "markdown",
   "metadata": {},
   "source": [
    "## Making Gender format Equal"
   ]
  },
  {
   "cell_type": "code",
   "execution_count": 30,
   "metadata": {},
   "outputs": [
    {
     "data": {
      "text/plain": [
       "Counter({'Female': 68,\n",
       "         'Male': 64,\n",
       "         'M': 166,\n",
       "         'F': 272,\n",
       "         'MALE': 48,\n",
       "         'FEMALE': 49})"
      ]
     },
     "execution_count": 30,
     "metadata": {},
     "output_type": "execute_result"
    }
   ],
   "source": [
    "Counter(data1.GENDER)"
   ]
  },
  {
   "cell_type": "code",
   "execution_count": 31,
   "metadata": {},
   "outputs": [],
   "source": [
    "data1['GENDER'] = data1['GENDER'].astype(str)"
   ]
  },
  {
   "cell_type": "code",
   "execution_count": 32,
   "metadata": {},
   "outputs": [],
   "source": [
    "data1[\"GENDER\"]= data1[\"GENDER\"].replace(\"FEMALE\", \"Female\") \n",
    "data1[\"GENDER\"]= data1[\"GENDER\"].replace(\"F\", \"Female\") \n",
    "data1[\"GENDER\"]= data1[\"GENDER\"].replace(\"MALE\", \"Male\") \n",
    "data1[\"GENDER\"]= data1[\"GENDER\"].replace(\"M\", \"Male\") "
   ]
  },
  {
   "cell_type": "code",
   "execution_count": 33,
   "metadata": {},
   "outputs": [
    {
     "data": {
      "text/plain": [
       "array(['Female', 'Male'], dtype=object)"
      ]
     },
     "execution_count": 33,
     "metadata": {},
     "output_type": "execute_result"
    }
   ],
   "source": [
    "data1['GENDER'].unique()"
   ]
  },
  {
   "cell_type": "code",
   "execution_count": 34,
   "metadata": {},
   "outputs": [
    {
     "name": "stdout",
     "output_type": "stream",
     "text": [
      "<class 'pandas.core.frame.DataFrame'>\n",
      "RangeIndex: 667 entries, 0 to 666\n",
      "Data columns (total 16 columns):\n",
      " #   Column       Non-Null Count  Dtype  \n",
      "---  ------       --------------  -----  \n",
      " 0   S.NO         667 non-null    int64  \n",
      " 1   DEPT         667 non-null    object \n",
      " 2   COLLEGE      667 non-null    object \n",
      " 3   GENDER       667 non-null    object \n",
      " 4   10TH         667 non-null    object \n",
      " 5   12TH         667 non-null    object \n",
      " 6   UG           667 non-null    float64\n",
      " 7   PG           667 non-null    float64\n",
      " 8   UG1          667 non-null    float64\n",
      " 9   PG1          667 non-null    float64\n",
      " 10  10TH1        667 non-null    float64\n",
      " 11  12TH1        667 non-null    float64\n",
      " 12  cleanedUG    667 non-null    float64\n",
      " 13  cleanedPG    667 non-null    float64\n",
      " 14  cleaned10TH  667 non-null    float64\n",
      " 15  cleaned12TH  667 non-null    float64\n",
      "dtypes: float64(10), int64(1), object(5)\n",
      "memory usage: 83.5+ KB\n"
     ]
    }
   ],
   "source": [
    "data1.info()"
   ]
  },
  {
   "cell_type": "code",
   "execution_count": 35,
   "metadata": {},
   "outputs": [],
   "source": [
    "data1 = data1.drop([\"UG\",\"UG1\"],axis=1)\n",
    "data1 = data1.drop([\"PG\",\"PG1\"],axis=1)\n",
    "data1 = data1.drop([\"10TH\",\"10TH1\"],axis=1)\n",
    "data1 = data1.drop([\"12TH\",\"12TH1\"],axis=1)\n"
   ]
  },
  {
   "cell_type": "code",
   "execution_count": 36,
   "metadata": {},
   "outputs": [
    {
     "name": "stdout",
     "output_type": "stream",
     "text": [
      "<class 'pandas.core.frame.DataFrame'>\n",
      "RangeIndex: 667 entries, 0 to 666\n",
      "Data columns (total 8 columns):\n",
      " #   Column       Non-Null Count  Dtype  \n",
      "---  ------       --------------  -----  \n",
      " 0   S.NO         667 non-null    int64  \n",
      " 1   DEPT         667 non-null    object \n",
      " 2   COLLEGE      667 non-null    object \n",
      " 3   GENDER       667 non-null    object \n",
      " 4   cleanedUG    667 non-null    float64\n",
      " 5   cleanedPG    667 non-null    float64\n",
      " 6   cleaned10TH  667 non-null    float64\n",
      " 7   cleaned12TH  667 non-null    float64\n",
      "dtypes: float64(4), int64(1), object(3)\n",
      "memory usage: 41.8+ KB\n"
     ]
    }
   ],
   "source": [
    "data1.info()"
   ]
  },
  {
   "cell_type": "code",
   "execution_count": 37,
   "metadata": {},
   "outputs": [],
   "source": [
    "data1.rename(columns={'cleanedUG':'UG'},inplace=True)\n",
    "data1.rename(columns={'cleanedPG':'PG'},inplace=True)\n",
    "data1.rename(columns={'cleaned10TH':'10TH'},inplace=True)\n",
    "data1.rename(columns={'cleaned12TH':'12TH'},inplace=True)\n"
   ]
  },
  {
   "cell_type": "markdown",
   "metadata": {},
   "source": [
    "## Checking for outliers\n"
   ]
  },
  {
   "cell_type": "code",
   "execution_count": 38,
   "metadata": {
    "scrolled": true
   },
   "outputs": [
    {
     "data": {
      "image/png": "[encoded data removed]",
      "text/plain": [
       "<Figure size 432x288 with 1 Axes>"
      ]
     },
     "metadata": {
      "needs_background": "light"
     },
     "output_type": "display_data"
    }
   ],
   "source": [
    "data1[['UG']].boxplot();"
   ]
  },
  {
   "cell_type": "code",
   "execution_count": 39,
   "metadata": {},
   "outputs": [],
   "source": [
    "X=data1.UG"
   ]
  },
  {
   "cell_type": "code",
   "execution_count": 40,
   "metadata": {},
   "outputs": [],
   "source": [
    "UG_outliers_removal=X.between(X.quantile(0.5),X.quantile(0.95))"
   ]
  },
  {
   "cell_type": "code",
   "execution_count": 41,
   "metadata": {},
   "outputs": [
    {
     "name": "stdout",
     "output_type": "stream",
     "text": [
      "305/667 data points remain\n"
     ]
    }
   ],
   "source": [
    "print(str(X[UG_outliers_removal].size)+\"/\"+ str(X.size)+ \" data points remain\")"
   ]
  },
  {
   "cell_type": "code",
   "execution_count": 42,
   "metadata": {},
   "outputs": [
    {
     "data": {
      "text/plain": [
       "Text(0.5, 0, 'UG')"
      ]
     },
     "execution_count": 42,
     "metadata": {},
     "output_type": "execute_result"
    },
    {
     "data": {
      "image/png": "[encoded data removed]",
      "text/plain": [
       "<Figure size 432x288 with 1 Axes>"
      ]
     },
     "metadata": {
      "needs_background": "light"
     },
     "output_type": "display_data"
    }
   ],
   "source": [
    "plt.boxplot(X[UG_outliers_removal]);\n",
    "plt.xlabel(\"UG\")"
   ]
  },
  {
   "cell_type": "code",
   "execution_count": 43,
   "metadata": {},
   "outputs": [
    {
     "data": {
      "text/plain": [
       "Text(0.5, 0, 'UG')"
      ]
     },
     "execution_count": 43,
     "metadata": {},
     "output_type": "execute_result"
    },
    {
     "data": {
      "image/png": "[encoded data removed]",
      "text/plain": [
       "<Figure size 1152x360 with 2 Axes>"
      ]
     },
     "metadata": {
      "needs_background": "light"
     },
     "output_type": "display_data"
    }
   ],
   "source": [
    "figure,axis=plt.subplots(1,2,figsize=(16,5))\n",
    "axis[0].boxplot(X);\n",
    "axis[1].boxplot(X[UG_outliers_removal]);\n",
    "axis[0].set_title(\"With outliers\") \n",
    "axis[0].set_xlabel(\"UG\")\n",
    "axis[1].set_title(\"Removed outliers\")\n",
    "axis[1].set_xlabel(\"UG\")"
   ]
  },
  {
   "cell_type": "code",
   "execution_count": 44,
   "metadata": {},
   "outputs": [
    {
     "data": {
      "image/png": "[encoded data removed]",
      "text/plain": [
       "<Figure size 432x288 with 1 Axes>"
      ]
     },
     "metadata": {
      "needs_background": "light"
     },
     "output_type": "display_data"
    }
   ],
   "source": [
    "data1[['PG']].boxplot();"
   ]
  },
  {
   "cell_type": "code",
   "execution_count": 45,
   "metadata": {},
   "outputs": [],
   "source": [
    "X=data1.PG"
   ]
  },
  {
   "cell_type": "code",
   "execution_count": 46,
   "metadata": {},
   "outputs": [],
   "source": [
    "PG_outliers_removal=X.between(X.quantile(0.05),X.quantile(0.90))"
   ]
  },
  {
   "cell_type": "code",
   "execution_count": 47,
   "metadata": {},
   "outputs": [
    {
     "name": "stdout",
     "output_type": "stream",
     "text": [
      "627/667 data points remain\n"
     ]
    }
   ],
   "source": [
    "print(str(X[PG_outliers_removal].size)+\"/\"+ str(X.size)+ \" data points remain\")"
   ]
  },
  {
   "cell_type": "code",
   "execution_count": 48,
   "metadata": {},
   "outputs": [
    {
     "data": {
      "text/plain": [
       "Text(0.5, 0, 'PG')"
      ]
     },
     "execution_count": 48,
     "metadata": {},
     "output_type": "execute_result"
    },
    {
     "data": {
      "image/png": "[encoded data removed]",
      "text/plain": [
       "<Figure size 432x288 with 1 Axes>"
      ]
     },
     "metadata": {
      "needs_background": "light"
     },
     "output_type": "display_data"
    }
   ],
   "source": [
    "plt.boxplot(X[PG_outliers_removal]);\n",
    "plt.xlabel(\"PG\")"
   ]
  },
  {
   "cell_type": "code",
   "execution_count": 49,
   "metadata": {},
   "outputs": [
    {
     "data": {
      "text/plain": [
       "Text(0.5, 0, 'PG')"
      ]
     },
     "execution_count": 49,
     "metadata": {},
     "output_type": "execute_result"
    },
    {
     "data": {
      "image/png": "[encoded data removed]",
      "text/plain": [
       "<Figure size 1152x360 with 2 Axes>"
      ]
     },
     "metadata": {
      "needs_background": "light"
     },
     "output_type": "display_data"
    }
   ],
   "source": [
    "figure,axis=plt.subplots(1,2,figsize=(16,5))\n",
    "axis[0].boxplot(X);\n",
    "axis[1].boxplot(X[PG_outliers_removal]);\n",
    "axis[0].set_title(\"With outliers\") \n",
    "axis[0].set_xlabel(\"PG\")\n",
    "axis[1].set_title(\"Removed outliers\")\n",
    "axis[1].set_xlabel(\"PG\")"
   ]
  },
  {
   "cell_type": "code",
   "execution_count": 50,
   "metadata": {},
   "outputs": [
    {
     "data": {
      "text/html": [
       "<div>\n",
       "<style scoped>\n",
       "    .dataframe tbody tr th:only-of-type {\n",
       "        vertical-align: middle;\n",
       "    }\n",
       "\n",
       "    .dataframe tbody tr th {\n",
       "        vertical-align: top;\n",
       "    }\n",
       "\n",
       "    .dataframe thead th {\n",
       "        text-align: right;\n",
       "    }\n",
       "</style>\n",
       "<table border=\"1\" class=\"dataframe\">\n",
       "  <thead>\n",
       "    <tr style=\"text-align: right;\">\n",
       "      <th></th>\n",
       "      <th>S.NO</th>\n",
       "      <th>DEPT</th>\n",
       "      <th>COLLEGE</th>\n",
       "      <th>GENDER</th>\n",
       "      <th>UG</th>\n",
       "      <th>PG</th>\n",
       "      <th>10TH</th>\n",
       "      <th>12TH</th>\n",
       "    </tr>\n",
       "  </thead>\n",
       "  <tbody>\n",
       "    <tr>\n",
       "      <th>0</th>\n",
       "      <td>1</td>\n",
       "      <td>B. Sc IT</td>\n",
       "      <td>NEHRU ARTS AND SCIENCE COLLEGE</td>\n",
       "      <td>Female</td>\n",
       "      <td>67.0</td>\n",
       "      <td>65.25</td>\n",
       "      <td>64.0</td>\n",
       "      <td>66.0</td>\n",
       "    </tr>\n",
       "    <tr>\n",
       "      <th>1</th>\n",
       "      <td>2</td>\n",
       "      <td>B. Sc IT</td>\n",
       "      <td>NEHRU ARTS AND SCIENCE COLLEGE</td>\n",
       "      <td>Male</td>\n",
       "      <td>67.0</td>\n",
       "      <td>65.25</td>\n",
       "      <td>80.8</td>\n",
       "      <td>51.0</td>\n",
       "    </tr>\n",
       "    <tr>\n",
       "      <th>2</th>\n",
       "      <td>3</td>\n",
       "      <td>B. Sc IT</td>\n",
       "      <td>NEHRU ARTS AND SCIENCE COLLEGE</td>\n",
       "      <td>Female</td>\n",
       "      <td>71.0</td>\n",
       "      <td>65.25</td>\n",
       "      <td>92.0</td>\n",
       "      <td>66.0</td>\n",
       "    </tr>\n",
       "    <tr>\n",
       "      <th>3</th>\n",
       "      <td>4</td>\n",
       "      <td>B. Sc IT</td>\n",
       "      <td>NEHRU ARTS AND SCIENCE COLLEGE</td>\n",
       "      <td>Male</td>\n",
       "      <td>60.0</td>\n",
       "      <td>65.25</td>\n",
       "      <td>67.0</td>\n",
       "      <td>53.0</td>\n",
       "    </tr>\n",
       "    <tr>\n",
       "      <th>4</th>\n",
       "      <td>5</td>\n",
       "      <td>B. Sc IT</td>\n",
       "      <td>NEHRU ARTS AND SCIENCE COLLEGE</td>\n",
       "      <td>Male</td>\n",
       "      <td>65.0</td>\n",
       "      <td>65.25</td>\n",
       "      <td>86.0</td>\n",
       "      <td>72.0</td>\n",
       "    </tr>\n",
       "  </tbody>\n",
       "</table>\n",
       "</div>"
      ],
      "text/plain": [
       "   S.NO      DEPT                         COLLEGE  GENDER    UG     PG  10TH  \\\n",
       "0     1  B. Sc IT  NEHRU ARTS AND SCIENCE COLLEGE  Female  67.0  65.25  64.0   \n",
       "1     2  B. Sc IT  NEHRU ARTS AND SCIENCE COLLEGE    Male  67.0  65.25  80.8   \n",
       "2     3  B. Sc IT  NEHRU ARTS AND SCIENCE COLLEGE  Female  71.0  65.25  92.0   \n",
       "3     4  B. Sc IT  NEHRU ARTS AND SCIENCE COLLEGE    Male  60.0  65.25  67.0   \n",
       "4     5  B. Sc IT  NEHRU ARTS AND SCIENCE COLLEGE    Male  65.0  65.25  86.0   \n",
       "\n",
       "   12TH  \n",
       "0  66.0  \n",
       "1  51.0  \n",
       "2  66.0  \n",
       "3  53.0  \n",
       "4  72.0  "
      ]
     },
     "execution_count": 50,
     "metadata": {},
     "output_type": "execute_result"
    }
   ],
   "source": [
    "data1.head()"
   ]
  },
  {
   "cell_type": "code",
   "execution_count": 51,
   "metadata": {},
   "outputs": [
    {
     "data": {
      "text/html": [
       "<div>\n",
       "<style scoped>\n",
       "    .dataframe tbody tr th:only-of-type {\n",
       "        vertical-align: middle;\n",
       "    }\n",
       "\n",
       "    .dataframe tbody tr th {\n",
       "        vertical-align: top;\n",
       "    }\n",
       "\n",
       "    .dataframe thead th {\n",
       "        text-align: right;\n",
       "    }\n",
       "</style>\n",
       "<table border=\"1\" class=\"dataframe\">\n",
       "  <thead>\n",
       "    <tr style=\"text-align: right;\">\n",
       "      <th></th>\n",
       "      <th>S.NO</th>\n",
       "      <th>DEPT</th>\n",
       "      <th>COLLEGE</th>\n",
       "      <th>GENDER</th>\n",
       "      <th>UG</th>\n",
       "      <th>PG</th>\n",
       "      <th>10TH</th>\n",
       "      <th>12TH</th>\n",
       "    </tr>\n",
       "  </thead>\n",
       "  <tbody>\n",
       "    <tr>\n",
       "      <th>0</th>\n",
       "      <td>0</td>\n",
       "      <td>0</td>\n",
       "      <td>0</td>\n",
       "      <td>0</td>\n",
       "      <td>0</td>\n",
       "      <td>0</td>\n",
       "      <td>0</td>\n",
       "      <td>0</td>\n",
       "    </tr>\n",
       "  </tbody>\n",
       "</table>\n",
       "</div>"
      ],
      "text/plain": [
       "   S.NO  DEPT  COLLEGE  GENDER  UG  PG  10TH  12TH\n",
       "0     0     0        0       0   0   0     0     0"
      ]
     },
     "execution_count": 51,
     "metadata": {},
     "output_type": "execute_result"
    }
   ],
   "source": [
    "data1.isna().sum().to_frame().T"
   ]
  },
  {
   "cell_type": "code",
   "execution_count": 52,
   "metadata": {},
   "outputs": [],
   "source": [
    "data1.fillna(method='ffill',inplace=True)"
   ]
  },
  {
   "cell_type": "code",
   "execution_count": 53,
   "metadata": {},
   "outputs": [
    {
     "data": {
      "text/html": [
       "<div>\n",
       "<style scoped>\n",
       "    .dataframe tbody tr th:only-of-type {\n",
       "        vertical-align: middle;\n",
       "    }\n",
       "\n",
       "    .dataframe tbody tr th {\n",
       "        vertical-align: top;\n",
       "    }\n",
       "\n",
       "    .dataframe thead th {\n",
       "        text-align: right;\n",
       "    }\n",
       "</style>\n",
       "<table border=\"1\" class=\"dataframe\">\n",
       "  <thead>\n",
       "    <tr style=\"text-align: right;\">\n",
       "      <th></th>\n",
       "      <th>0</th>\n",
       "    </tr>\n",
       "  </thead>\n",
       "  <tbody>\n",
       "    <tr>\n",
       "      <th>S.NO</th>\n",
       "      <td>0</td>\n",
       "    </tr>\n",
       "    <tr>\n",
       "      <th>DEPT</th>\n",
       "      <td>0</td>\n",
       "    </tr>\n",
       "    <tr>\n",
       "      <th>COLLEGE</th>\n",
       "      <td>0</td>\n",
       "    </tr>\n",
       "    <tr>\n",
       "      <th>GENDER</th>\n",
       "      <td>0</td>\n",
       "    </tr>\n",
       "    <tr>\n",
       "      <th>UG</th>\n",
       "      <td>0</td>\n",
       "    </tr>\n",
       "    <tr>\n",
       "      <th>PG</th>\n",
       "      <td>0</td>\n",
       "    </tr>\n",
       "    <tr>\n",
       "      <th>10TH</th>\n",
       "      <td>0</td>\n",
       "    </tr>\n",
       "    <tr>\n",
       "      <th>12TH</th>\n",
       "      <td>0</td>\n",
       "    </tr>\n",
       "  </tbody>\n",
       "</table>\n",
       "</div>"
      ],
      "text/plain": [
       "         0\n",
       "S.NO     0\n",
       "DEPT     0\n",
       "COLLEGE  0\n",
       "GENDER   0\n",
       "UG       0\n",
       "PG       0\n",
       "10TH     0\n",
       "12TH     0"
      ]
     },
     "execution_count": 53,
     "metadata": {},
     "output_type": "execute_result"
    }
   ],
   "source": [
    "data1.isna().sum().to_frame()"
   ]
  },
  {
   "cell_type": "code",
   "execution_count": 54,
   "metadata": {},
   "outputs": [
    {
     "data": {
      "text/plain": [
       "(667, 8)"
      ]
     },
     "execution_count": 54,
     "metadata": {},
     "output_type": "execute_result"
    }
   ],
   "source": [
    "data1.shape"
   ]
  },
  {
   "cell_type": "code",
   "execution_count": 55,
   "metadata": {},
   "outputs": [
    {
     "data": {
      "text/html": [
       "<div>\n",
       "<style scoped>\n",
       "    .dataframe tbody tr th:only-of-type {\n",
       "        vertical-align: middle;\n",
       "    }\n",
       "\n",
       "    .dataframe tbody tr th {\n",
       "        vertical-align: top;\n",
       "    }\n",
       "\n",
       "    .dataframe thead th {\n",
       "        text-align: right;\n",
       "    }\n",
       "</style>\n",
       "<table border=\"1\" class=\"dataframe\">\n",
       "  <thead>\n",
       "    <tr style=\"text-align: right;\">\n",
       "      <th></th>\n",
       "      <th>S.NO</th>\n",
       "      <th>DEPT</th>\n",
       "      <th>COLLEGE</th>\n",
       "      <th>GENDER</th>\n",
       "      <th>UG</th>\n",
       "      <th>PG</th>\n",
       "      <th>10TH</th>\n",
       "      <th>12TH</th>\n",
       "    </tr>\n",
       "  </thead>\n",
       "  <tbody>\n",
       "    <tr>\n",
       "      <th>0</th>\n",
       "      <td>1</td>\n",
       "      <td>B. Sc IT</td>\n",
       "      <td>NEHRU ARTS AND SCIENCE COLLEGE</td>\n",
       "      <td>Female</td>\n",
       "      <td>67.0</td>\n",
       "      <td>65.25</td>\n",
       "      <td>64.0</td>\n",
       "      <td>66.0</td>\n",
       "    </tr>\n",
       "    <tr>\n",
       "      <th>1</th>\n",
       "      <td>2</td>\n",
       "      <td>B. Sc IT</td>\n",
       "      <td>NEHRU ARTS AND SCIENCE COLLEGE</td>\n",
       "      <td>Male</td>\n",
       "      <td>67.0</td>\n",
       "      <td>65.25</td>\n",
       "      <td>80.8</td>\n",
       "      <td>51.0</td>\n",
       "    </tr>\n",
       "    <tr>\n",
       "      <th>2</th>\n",
       "      <td>3</td>\n",
       "      <td>B. Sc IT</td>\n",
       "      <td>NEHRU ARTS AND SCIENCE COLLEGE</td>\n",
       "      <td>Female</td>\n",
       "      <td>71.0</td>\n",
       "      <td>65.25</td>\n",
       "      <td>92.0</td>\n",
       "      <td>66.0</td>\n",
       "    </tr>\n",
       "    <tr>\n",
       "      <th>3</th>\n",
       "      <td>4</td>\n",
       "      <td>B. Sc IT</td>\n",
       "      <td>NEHRU ARTS AND SCIENCE COLLEGE</td>\n",
       "      <td>Male</td>\n",
       "      <td>60.0</td>\n",
       "      <td>65.25</td>\n",
       "      <td>67.0</td>\n",
       "      <td>53.0</td>\n",
       "    </tr>\n",
       "    <tr>\n",
       "      <th>4</th>\n",
       "      <td>5</td>\n",
       "      <td>B. Sc IT</td>\n",
       "      <td>NEHRU ARTS AND SCIENCE COLLEGE</td>\n",
       "      <td>Male</td>\n",
       "      <td>65.0</td>\n",
       "      <td>65.25</td>\n",
       "      <td>86.0</td>\n",
       "      <td>72.0</td>\n",
       "    </tr>\n",
       "  </tbody>\n",
       "</table>\n",
       "</div>"
      ],
      "text/plain": [
       "   S.NO      DEPT                         COLLEGE  GENDER    UG     PG  10TH  \\\n",
       "0     1  B. Sc IT  NEHRU ARTS AND SCIENCE COLLEGE  Female  67.0  65.25  64.0   \n",
       "1     2  B. Sc IT  NEHRU ARTS AND SCIENCE COLLEGE    Male  67.0  65.25  80.8   \n",
       "2     3  B. Sc IT  NEHRU ARTS AND SCIENCE COLLEGE  Female  71.0  65.25  92.0   \n",
       "3     4  B. Sc IT  NEHRU ARTS AND SCIENCE COLLEGE    Male  60.0  65.25  67.0   \n",
       "4     5  B. Sc IT  NEHRU ARTS AND SCIENCE COLLEGE    Male  65.0  65.25  86.0   \n",
       "\n",
       "   12TH  \n",
       "0  66.0  \n",
       "1  51.0  \n",
       "2  66.0  \n",
       "3  53.0  \n",
       "4  72.0  "
      ]
     },
     "execution_count": 55,
     "metadata": {},
     "output_type": "execute_result"
    }
   ],
   "source": [
    "data1.head()"
   ]
  },
  {
   "cell_type": "code",
   "execution_count": 56,
   "metadata": {},
   "outputs": [
    {
     "data": {
      "text/html": [
       "<div>\n",
       "<style scoped>\n",
       "    .dataframe tbody tr th:only-of-type {\n",
       "        vertical-align: middle;\n",
       "    }\n",
       "\n",
       "    .dataframe tbody tr th {\n",
       "        vertical-align: top;\n",
       "    }\n",
       "\n",
       "    .dataframe thead th {\n",
       "        text-align: right;\n",
       "    }\n",
       "</style>\n",
       "<table border=\"1\" class=\"dataframe\">\n",
       "  <thead>\n",
       "    <tr style=\"text-align: right;\">\n",
       "      <th></th>\n",
       "      <th>S.NO</th>\n",
       "      <th>DEPT</th>\n",
       "      <th>COLLEGE</th>\n",
       "      <th>GENDER</th>\n",
       "      <th>UG</th>\n",
       "      <th>PG</th>\n",
       "      <th>10TH</th>\n",
       "      <th>12TH</th>\n",
       "    </tr>\n",
       "  </thead>\n",
       "  <tbody>\n",
       "    <tr>\n",
       "      <th>0</th>\n",
       "      <td>0</td>\n",
       "      <td>0</td>\n",
       "      <td>0</td>\n",
       "      <td>0</td>\n",
       "      <td>0</td>\n",
       "      <td>0</td>\n",
       "      <td>0</td>\n",
       "      <td>0</td>\n",
       "    </tr>\n",
       "  </tbody>\n",
       "</table>\n",
       "</div>"
      ],
      "text/plain": [
       "   S.NO  DEPT  COLLEGE  GENDER  UG  PG  10TH  12TH\n",
       "0     0     0        0       0   0   0     0     0"
      ]
     },
     "execution_count": 56,
     "metadata": {},
     "output_type": "execute_result"
    }
   ],
   "source": [
    "data1.isnull().sum().to_frame().T"
   ]
  },
  {
   "cell_type": "code",
   "execution_count": 57,
   "metadata": {},
   "outputs": [],
   "source": [
    "data1.fillna(method='ffill',inplace=True)"
   ]
  },
  {
   "cell_type": "code",
   "execution_count": 58,
   "metadata": {},
   "outputs": [
    {
     "data": {
      "text/html": [
       "<div>\n",
       "<style scoped>\n",
       "    .dataframe tbody tr th:only-of-type {\n",
       "        vertical-align: middle;\n",
       "    }\n",
       "\n",
       "    .dataframe tbody tr th {\n",
       "        vertical-align: top;\n",
       "    }\n",
       "\n",
       "    .dataframe thead th {\n",
       "        text-align: right;\n",
       "    }\n",
       "</style>\n",
       "<table border=\"1\" class=\"dataframe\">\n",
       "  <thead>\n",
       "    <tr style=\"text-align: right;\">\n",
       "      <th></th>\n",
       "      <th>S.NO</th>\n",
       "      <th>DEPT</th>\n",
       "      <th>COLLEGE</th>\n",
       "      <th>GENDER</th>\n",
       "      <th>UG</th>\n",
       "      <th>PG</th>\n",
       "      <th>10TH</th>\n",
       "      <th>12TH</th>\n",
       "    </tr>\n",
       "  </thead>\n",
       "  <tbody>\n",
       "    <tr>\n",
       "      <th>0</th>\n",
       "      <td>0</td>\n",
       "      <td>0</td>\n",
       "      <td>0</td>\n",
       "      <td>0</td>\n",
       "      <td>0</td>\n",
       "      <td>0</td>\n",
       "      <td>0</td>\n",
       "      <td>0</td>\n",
       "    </tr>\n",
       "  </tbody>\n",
       "</table>\n",
       "</div>"
      ],
      "text/plain": [
       "   S.NO  DEPT  COLLEGE  GENDER  UG  PG  10TH  12TH\n",
       "0     0     0        0       0   0   0     0     0"
      ]
     },
     "execution_count": 58,
     "metadata": {},
     "output_type": "execute_result"
    }
   ],
   "source": [
    "data1.isnull().sum().to_frame().T"
   ]
  },
  {
   "cell_type": "markdown",
   "metadata": {},
   "source": [
    "## The data on below index is concatenated marks of students and hence dropping it"
   ]
  },
  {
   "cell_type": "code",
   "execution_count": 59,
   "metadata": {},
   "outputs": [],
   "source": [
    "# cross check again the index if these are the correct indexes\n",
    "data1.drop(data1.index[498],inplace=True)"
   ]
  },
  {
   "cell_type": "code",
   "execution_count": 60,
   "metadata": {},
   "outputs": [],
   "source": [
    "data1.drop(data1.index[506],inplace=True)"
   ]
  },
  {
   "cell_type": "code",
   "execution_count": 61,
   "metadata": {},
   "outputs": [],
   "source": [
    "data1.drop(data1.index[598],inplace=True)"
   ]
  },
  {
   "cell_type": "code",
   "execution_count": 62,
   "metadata": {},
   "outputs": [
    {
     "data": {
      "text/plain": [
       "(664, 8)"
      ]
     },
     "execution_count": 62,
     "metadata": {},
     "output_type": "execute_result"
    }
   ],
   "source": [
    "data1.shape"
   ]
  },
  {
   "cell_type": "markdown",
   "metadata": {},
   "source": [
    "## Add a new column called eligible based on UG and PG marks"
   ]
  },
  {
   "cell_type": "code",
   "execution_count": 63,
   "metadata": {},
   "outputs": [],
   "source": [
    "data1.loc[((data1.UG>=60.0) & (data1.PG>=60.0)),'Eligible']='Yes'\n",
    "data1.loc[((data1.UG<60.0) |(data1.PG<60.0)),'Eligible']='No'"
   ]
  },
  {
   "cell_type": "code",
   "execution_count": 64,
   "metadata": {},
   "outputs": [
    {
     "data": {
      "text/html": [
       "<div>\n",
       "<style scoped>\n",
       "    .dataframe tbody tr th:only-of-type {\n",
       "        vertical-align: middle;\n",
       "    }\n",
       "\n",
       "    .dataframe tbody tr th {\n",
       "        vertical-align: top;\n",
       "    }\n",
       "\n",
       "    .dataframe thead th {\n",
       "        text-align: right;\n",
       "    }\n",
       "</style>\n",
       "<table border=\"1\" class=\"dataframe\">\n",
       "  <thead>\n",
       "    <tr style=\"text-align: right;\">\n",
       "      <th></th>\n",
       "      <th>S.NO</th>\n",
       "      <th>DEPT</th>\n",
       "      <th>COLLEGE</th>\n",
       "      <th>GENDER</th>\n",
       "      <th>UG</th>\n",
       "      <th>PG</th>\n",
       "      <th>10TH</th>\n",
       "      <th>12TH</th>\n",
       "      <th>Eligible</th>\n",
       "    </tr>\n",
       "  </thead>\n",
       "  <tbody>\n",
       "    <tr>\n",
       "      <th>0</th>\n",
       "      <td>1</td>\n",
       "      <td>B. Sc IT</td>\n",
       "      <td>NEHRU ARTS AND SCIENCE COLLEGE</td>\n",
       "      <td>Female</td>\n",
       "      <td>67.0</td>\n",
       "      <td>65.25</td>\n",
       "      <td>64.0</td>\n",
       "      <td>66.0</td>\n",
       "      <td>Yes</td>\n",
       "    </tr>\n",
       "    <tr>\n",
       "      <th>1</th>\n",
       "      <td>2</td>\n",
       "      <td>B. Sc IT</td>\n",
       "      <td>NEHRU ARTS AND SCIENCE COLLEGE</td>\n",
       "      <td>Male</td>\n",
       "      <td>67.0</td>\n",
       "      <td>65.25</td>\n",
       "      <td>80.8</td>\n",
       "      <td>51.0</td>\n",
       "      <td>Yes</td>\n",
       "    </tr>\n",
       "    <tr>\n",
       "      <th>2</th>\n",
       "      <td>3</td>\n",
       "      <td>B. Sc IT</td>\n",
       "      <td>NEHRU ARTS AND SCIENCE COLLEGE</td>\n",
       "      <td>Female</td>\n",
       "      <td>71.0</td>\n",
       "      <td>65.25</td>\n",
       "      <td>92.0</td>\n",
       "      <td>66.0</td>\n",
       "      <td>Yes</td>\n",
       "    </tr>\n",
       "    <tr>\n",
       "      <th>3</th>\n",
       "      <td>4</td>\n",
       "      <td>B. Sc IT</td>\n",
       "      <td>NEHRU ARTS AND SCIENCE COLLEGE</td>\n",
       "      <td>Male</td>\n",
       "      <td>60.0</td>\n",
       "      <td>65.25</td>\n",
       "      <td>67.0</td>\n",
       "      <td>53.0</td>\n",
       "      <td>Yes</td>\n",
       "    </tr>\n",
       "    <tr>\n",
       "      <th>4</th>\n",
       "      <td>5</td>\n",
       "      <td>B. Sc IT</td>\n",
       "      <td>NEHRU ARTS AND SCIENCE COLLEGE</td>\n",
       "      <td>Male</td>\n",
       "      <td>65.0</td>\n",
       "      <td>65.25</td>\n",
       "      <td>86.0</td>\n",
       "      <td>72.0</td>\n",
       "      <td>Yes</td>\n",
       "    </tr>\n",
       "  </tbody>\n",
       "</table>\n",
       "</div>"
      ],
      "text/plain": [
       "   S.NO      DEPT                         COLLEGE  GENDER    UG     PG  10TH  \\\n",
       "0     1  B. Sc IT  NEHRU ARTS AND SCIENCE COLLEGE  Female  67.0  65.25  64.0   \n",
       "1     2  B. Sc IT  NEHRU ARTS AND SCIENCE COLLEGE    Male  67.0  65.25  80.8   \n",
       "2     3  B. Sc IT  NEHRU ARTS AND SCIENCE COLLEGE  Female  71.0  65.25  92.0   \n",
       "3     4  B. Sc IT  NEHRU ARTS AND SCIENCE COLLEGE    Male  60.0  65.25  67.0   \n",
       "4     5  B. Sc IT  NEHRU ARTS AND SCIENCE COLLEGE    Male  65.0  65.25  86.0   \n",
       "\n",
       "   12TH Eligible  \n",
       "0  66.0      Yes  \n",
       "1  51.0      Yes  \n",
       "2  66.0      Yes  \n",
       "3  53.0      Yes  \n",
       "4  72.0      Yes  "
      ]
     },
     "execution_count": 64,
     "metadata": {},
     "output_type": "execute_result"
    }
   ],
   "source": [
    "data1.head()"
   ]
  },
  {
   "cell_type": "markdown",
   "metadata": {},
   "source": [
    "## Finding the Insights"
   ]
  },
  {
   "cell_type": "markdown",
   "metadata": {},
   "source": [
    "## Genderwise Overall SSC performance"
   ]
  },
  {
   "cell_type": "code",
   "execution_count": 65,
   "metadata": {},
   "outputs": [
    {
     "data": {
      "text/plain": [
       "GENDER\n",
       "Female    82.467442\n",
       "Male      74.322022\n",
       "Name: 10TH, dtype: float64"
      ]
     },
     "execution_count": 65,
     "metadata": {},
     "output_type": "execute_result"
    }
   ],
   "source": [
    "data1.groupby(by=['GENDER'])['10TH'].mean()"
   ]
  },
  {
   "cell_type": "code",
   "execution_count": 66,
   "metadata": {},
   "outputs": [
    {
     "data": {
      "image/png": "[encoded data removed]",
      "text/plain": [
       "<Figure size 1080x360 with 1 Axes>"
      ]
     },
     "metadata": {
      "needs_background": "light"
     },
     "output_type": "display_data"
    }
   ],
   "source": [
    "plt.figure(figsize=(15,5))\n",
    "splot=sns.barplot(data1['GENDER'],data1['10TH'],ci=None)\n",
    "plt.xticks(rotation=30)\n",
    "plt.xlabel(\"GENDER\",fontsize=15,color='black')\n",
    "plt.ylabel(\"Overall SSC Performance (Male vs Female) \",fontsize=15,color='black')\n",
    "plt.title(\"Overall SSC Performance (Male vs Female) \",fontdict={'fontsize':20,'color':'Red'})\n",
    "for p in splot.patches:\n",
    "    splot.annotate(format(p.get_height(), '.2f'), (p.get_x() + p.get_width() / 2., p.get_height()), ha = 'center', va = 'center', xytext = (0, 10),textcoords = 'offset points')"
   ]
  },
  {
   "cell_type": "markdown",
   "metadata": {},
   "source": [
    "## Genderwise overall HSSC Performance"
   ]
  },
  {
   "cell_type": "code",
   "execution_count": 67,
   "metadata": {},
   "outputs": [
    {
     "data": {
      "text/plain": [
       "GENDER\n",
       "Female    75.723204\n",
       "Male      68.179531\n",
       "Name: 12TH, dtype: float64"
      ]
     },
     "execution_count": 67,
     "metadata": {},
     "output_type": "execute_result"
    }
   ],
   "source": [
    "data1.groupby(by=['GENDER'])['12TH'].mean()"
   ]
  },
  {
   "cell_type": "code",
   "execution_count": 68,
   "metadata": {},
   "outputs": [
    {
     "data": {
      "image/png": "[encoded data removed]",
      "text/plain": [
       "<Figure size 1080x360 with 1 Axes>"
      ]
     },
     "metadata": {
      "needs_background": "light"
     },
     "output_type": "display_data"
    }
   ],
   "source": [
    "plt.figure(figsize=(15,5))\n",
    "splot=sns.barplot(data1['GENDER'],data1['12TH'],ci=None)\n",
    "plt.xticks(rotation=30)\n",
    "plt.xlabel(\"GENDER\",fontsize=15,color='black')\n",
    "plt.ylabel(\"Overall HSSC Performance (Male vs Female) \",fontsize=15,color='black')\n",
    "plt.title(\"Overall HSSC Performance (Male vs Female) \",fontdict={'fontsize':20,'color':'Red'})\n",
    "for p in splot.patches:\n",
    "    splot.annotate(format(p.get_height(), '.2f'), (p.get_x() + p.get_width() / 2., p.get_height()), ha = 'center', va = 'center', xytext = (0, 10),textcoords = 'offset points')"
   ]
  },
  {
   "cell_type": "markdown",
   "metadata": {},
   "source": [
    "## Genderwise overall UG Performance"
   ]
  },
  {
   "cell_type": "code",
   "execution_count": 69,
   "metadata": {},
   "outputs": [
    {
     "data": {
      "text/plain": [
       "GENDER\n",
       "Female    71.564358\n",
       "Male      62.385595\n",
       "Name: UG, dtype: float64"
      ]
     },
     "execution_count": 69,
     "metadata": {},
     "output_type": "execute_result"
    }
   ],
   "source": [
    "data1.groupby(by=['GENDER'])['UG'].mean()"
   ]
  },
  {
   "cell_type": "code",
   "execution_count": 70,
   "metadata": {},
   "outputs": [
    {
     "data": {
      "image/png": "[encoded data removed]",
      "text/plain": [
       "<Figure size 1080x360 with 1 Axes>"
      ]
     },
     "metadata": {
      "needs_background": "light"
     },
     "output_type": "display_data"
    }
   ],
   "source": [
    "plt.figure(figsize=(15,5))\n",
    "splot=sns.barplot(data1['GENDER'],data1['UG'],ci=None)\n",
    "plt.xticks(rotation=30)\n",
    "plt.xlabel(\"GENDER\",fontsize=15,color='black')\n",
    "plt.ylabel(\"Overall UG Performance (Male vs Female) \",fontsize=15,color='black')\n",
    "plt.title(\"Overall UG Performance (Male vs Female) \",fontdict={'fontsize':20,'color':'Red'})\n",
    "for p in splot.patches:\n",
    "    splot.annotate(format(p.get_height(), '.2f'), (p.get_x() + p.get_width() / 2., p.get_height()), ha = 'center', va = 'center', xytext = (0, 10),textcoords = 'offset points')"
   ]
  },
  {
   "cell_type": "markdown",
   "metadata": {},
   "source": [
    "## Genderwise overall PG Performance"
   ]
  },
  {
   "cell_type": "code",
   "execution_count": 71,
   "metadata": {},
   "outputs": [
    {
     "data": {
      "text/plain": [
       "GENDER\n",
       "Female    67.123721\n",
       "Male      67.022611\n",
       "Name: PG, dtype: float64"
      ]
     },
     "execution_count": 71,
     "metadata": {},
     "output_type": "execute_result"
    }
   ],
   "source": [
    "data1.groupby(by=['GENDER'])['PG'].mean()"
   ]
  },
  {
   "cell_type": "code",
   "execution_count": 72,
   "metadata": {},
   "outputs": [
    {
     "data": {
      "image/png": "[encoded data removed]",
      "text/plain": [
       "<Figure size 1080x360 with 1 Axes>"
      ]
     },
     "metadata": {
      "needs_background": "light"
     },
     "output_type": "display_data"
    }
   ],
   "source": [
    "plt.figure(figsize=(15,5))\n",
    "splot=sns.barplot(data1['GENDER'],data1['PG'],ci=None)\n",
    "plt.xticks(rotation=30)\n",
    "plt.xlabel(\"GENDER\",fontsize=15,color='black')\n",
    "plt.ylabel(\"Overall PG Performance (Male v/s Female)\",fontsize=15,color='black')\n",
    "plt.title(\"Overall PG Performance (Male vs Female) \",fontdict={'fontsize':20,'color':'Red'})\n",
    "for p in splot.patches:\n",
    "    splot.annotate(format(p.get_height(), '.2f'), (p.get_x() + p.get_width() / 2., p.get_height()), ha = 'center', va = 'center', xytext = (0, 10),textcoords = 'offset points')"
   ]
  },
  {
   "cell_type": "markdown",
   "metadata": {},
   "source": [
    "## Overall UG students eligible for placements"
   ]
  },
  {
   "cell_type": "code",
   "execution_count": 73,
   "metadata": {},
   "outputs": [
    {
     "data": {
      "text/plain": [
       "Eligible\n",
       "No     54.500929\n",
       "Yes    70.744181\n",
       "Name: UG, dtype: float64"
      ]
     },
     "execution_count": 73,
     "metadata": {},
     "output_type": "execute_result"
    }
   ],
   "source": [
    "data1.groupby(by=['Eligible'])['UG'].mean()"
   ]
  },
  {
   "cell_type": "code",
   "execution_count": 74,
   "metadata": {},
   "outputs": [
    {
     "data": {
      "image/png": "[encoded data removed]",
      "text/plain": [
       "<Figure size 1080x360 with 1 Axes>"
      ]
     },
     "metadata": {
      "needs_background": "light"
     },
     "output_type": "display_data"
    }
   ],
   "source": [
    "plt.figure(figsize=(15,5))\n",
    "splot=sns.barplot(data1['Eligible'],data1['UG'],ci=None)\n",
    "plt.xticks(rotation=30)\n",
    "plt.xlabel(\"Eligible\",fontsize=15,color='black')\n",
    "plt.ylabel(\"Number of UG students \",fontsize=15,color='black')\n",
    "plt.title(\"Overall UG students eligible for placements\",fontdict={'fontsize':20,'color':'Red'})\n",
    "for p in splot.patches:\n",
    "    splot.annotate(format(p.get_height(), '.2f'), (p.get_x() + p.get_width() / 2., p.get_height()), ha = 'center', va = 'center', xytext = (0, 10),textcoords = 'offset points')"
   ]
  },
  {
   "cell_type": "markdown",
   "metadata": {},
   "source": [
    "## Overall PG students eligible for placements"
   ]
  },
  {
   "cell_type": "code",
   "execution_count": 75,
   "metadata": {},
   "outputs": [
    {
     "data": {
      "text/plain": [
       "Eligible\n",
       "No     66.726965\n",
       "Yes    67.162157\n",
       "Name: PG, dtype: float64"
      ]
     },
     "execution_count": 75,
     "metadata": {},
     "output_type": "execute_result"
    }
   ],
   "source": [
    "data1.groupby(by=['Eligible'])['PG'].mean()"
   ]
  },
  {
   "cell_type": "code",
   "execution_count": 76,
   "metadata": {},
   "outputs": [
    {
     "data": {
      "image/png": "[encoded data removed]",
      "text/plain": [
       "<Figure size 1080x360 with 1 Axes>"
      ]
     },
     "metadata": {
      "needs_background": "light"
     },
     "output_type": "display_data"
    }
   ],
   "source": [
    "plt.figure(figsize=(15,5))\n",
    "splot=sns.barplot(data1['Eligible'],data1['PG'],ci=None)\n",
    "plt.xticks(rotation=30)\n",
    "plt.xlabel(\"Eligible\",fontsize=15,color='black')\n",
    "plt.ylabel(\"Number of PG students \",fontsize=15,color='black')\n",
    "plt.title(\"Overall PG students eligible for placements\",fontdict={'fontsize':20,'color':'Red'})\n",
    "for p in splot.patches:\n",
    "    splot.annotate(format(p.get_height(), '.2f'), (p.get_x() + p.get_width() / 2., p.get_height()), ha = 'center', va = 'center', xytext = (0, 10),textcoords = 'offset points')"
   ]
  },
  {
   "cell_type": "markdown",
   "metadata": {},
   "source": [
    "## Departmentwise UG performance"
   ]
  },
  {
   "cell_type": "code",
   "execution_count": 77,
   "metadata": {},
   "outputs": [
    {
     "data": {
      "text/plain": [
       "DEPT\n",
       "B. Sc IT                  67.616053\n",
       "B.Com ( e-Comm)           63.028182\n",
       "B.Com (IT)                62.824000\n",
       "B.Com (PA) B              61.777778\n",
       "B.Sc (CT)                 71.047619\n",
       "B.Sc (Micro Nano)         67.828000\n",
       "B.Sc ECS                  64.375000\n",
       "B.Sc Mathematics          71.625000\n",
       "BBA CA                    62.397727\n",
       "BBA IB                    65.127119\n",
       "BBA RM                    57.117647\n",
       "BCA                       72.466667\n",
       "BSc Micro Biology         70.002855\n",
       "Biochemistry with Nano    77.759591\n",
       "Biotechnology             63.163237\n",
       "COMMERCE (PA) \"A\"         66.055556\n",
       "CSE                       71.390909\n",
       "CSE                       72.000000\n",
       "ECE                       71.623529\n",
       "EEE                       70.614286\n",
       "M.Sc ( Biotech)           72.454545\n",
       "M.Sc Microbiology         76.687500\n",
       "M.Sc. ComputerScience     73.133333\n",
       "M.Sc.ECS                  72.333333\n",
       "Name: UG, dtype: float64"
      ]
     },
     "execution_count": 77,
     "metadata": {},
     "output_type": "execute_result"
    }
   ],
   "source": [
    "data1.groupby(by=['DEPT'])['UG'].mean()"
   ]
  },
  {
   "cell_type": "code",
   "execution_count": 78,
   "metadata": {},
   "outputs": [
    {
     "data": {
      "image/png": "[encoded data removed]",
      "text/plain": [
       "<Figure size 1080x360 with 1 Axes>"
      ]
     },
     "metadata": {
      "needs_background": "light"
     },
     "output_type": "display_data"
    }
   ],
   "source": [
    "plt.figure(figsize=(15,5))\n",
    "splot=sns.barplot(data1['DEPT'],data1['UG'],ci=None)\n",
    "plt.xticks(rotation=30)\n",
    "plt.xlabel(\"Departments\",fontsize=15,color='black')\n",
    "plt.ylabel(\"Marks scored by UG students \",fontsize=15,color='black')\n",
    "plt.title(\"Overall Performance of UG students departmentwise\",fontdict={'fontsize':20,'color':'Red'})\n",
    "for p in splot.patches:\n",
    "    splot.annotate(format(p.get_height(), '.2f'), (p.get_x() + p.get_width() / 2., p.get_height()), ha = 'center', va = 'center', xytext = (0, 10),textcoords = 'offset points')"
   ]
  },
  {
   "cell_type": "markdown",
   "metadata": {},
   "source": [
    "## Departmentwise PG performance"
   ]
  },
  {
   "cell_type": "code",
   "execution_count": 79,
   "metadata": {},
   "outputs": [
    {
     "data": {
      "text/plain": [
       "DEPT\n",
       "B. Sc IT                  65.250000\n",
       "B.Com ( e-Comm)           65.250000\n",
       "B.Com (IT)                65.250000\n",
       "B.Com (PA) B              65.250000\n",
       "B.Sc (CT)                 65.250000\n",
       "B.Sc (Micro Nano)         65.250000\n",
       "B.Sc ECS                  65.250000\n",
       "B.Sc Mathematics          65.250000\n",
       "BBA CA                    70.000000\n",
       "BBA IB                    70.000000\n",
       "BBA RM                    70.000000\n",
       "BCA                       65.250000\n",
       "BSc Micro Biology         65.250000\n",
       "Biochemistry with Nano    65.250000\n",
       "Biotechnology             65.250000\n",
       "COMMERCE (PA) \"A\"         65.250000\n",
       "CSE                       70.000000\n",
       "CSE                       70.000000\n",
       "ECE                       70.000000\n",
       "EEE                       70.000000\n",
       "M.Sc ( Biotech)           64.553030\n",
       "M.Sc Microbiology         75.000000\n",
       "M.Sc. ComputerScience     79.266667\n",
       "M.Sc.ECS                  67.838333\n",
       "Name: PG, dtype: float64"
      ]
     },
     "execution_count": 79,
     "metadata": {},
     "output_type": "execute_result"
    }
   ],
   "source": [
    "data1.groupby(by=['DEPT'])['PG'].mean()"
   ]
  },
  {
   "cell_type": "code",
   "execution_count": 80,
   "metadata": {},
   "outputs": [
    {
     "data": {
      "image/png": "[encoded data removed]",
      "text/plain": [
       "<Figure size 1080x360 with 1 Axes>"
      ]
     },
     "metadata": {
      "needs_background": "light"
     },
     "output_type": "display_data"
    }
   ],
   "source": [
    "plt.figure(figsize=(15,5))\n",
    "splot=sns.barplot(data1['DEPT'],data1['PG'],ci=None)\n",
    "plt.xticks(rotation=30)\n",
    "plt.xlabel(\"Departments\",fontsize=15,color='black')\n",
    "plt.ylabel(\"Marks scored by PG students \",fontsize=15,color='black')\n",
    "plt.title(\"Overall Performance of PG students departmentwise\",fontdict={'fontsize':20,'color':'Red'})\n",
    "for p in splot.patches:\n",
    "    splot.annotate(format(p.get_height(), '.2f'), (p.get_x() + p.get_width() / 2., p.get_height()), ha = 'center', va = 'center', xytext = (0, 10),textcoords = 'offset points')"
   ]
  },
  {
   "cell_type": "markdown",
   "metadata": {},
   "source": [
    "## Departmentwise students eligible for placements"
   ]
  },
  {
   "cell_type": "code",
   "execution_count": 81,
   "metadata": {},
   "outputs": [],
   "source": [
    "enc=LabelEncoder()\n",
    "data1.Eligible=enc.fit_transform(data1.Eligible)"
   ]
  },
  {
   "cell_type": "code",
   "execution_count": 82,
   "metadata": {},
   "outputs": [
    {
     "data": {
      "text/plain": [
       "DEPT\n",
       "B. Sc IT                  38\n",
       "B.Com ( e-Comm)           22\n",
       "B.Com (IT)                25\n",
       "B.Com (PA) B              36\n",
       "B.Sc (CT)                 21\n",
       "B.Sc (Micro Nano)         55\n",
       "B.Sc ECS                  24\n",
       "B.Sc Mathematics          16\n",
       "BBA CA                    44\n",
       "BBA IB                    59\n",
       "BBA RM                    17\n",
       "BCA                       54\n",
       "BSc Micro Biology         59\n",
       "Biochemistry with Nano    23\n",
       "Biotechnology             27\n",
       "COMMERCE (PA) \"A\"         36\n",
       "CSE                       22\n",
       "CSE                        1\n",
       "ECE                       17\n",
       "EEE                       14\n",
       "M.Sc ( Biotech)           11\n",
       "M.Sc Microbiology         16\n",
       "M.Sc. ComputerScience     15\n",
       "M.Sc.ECS                  12\n",
       "Name: Eligible, dtype: int64"
      ]
     },
     "execution_count": 82,
     "metadata": {},
     "output_type": "execute_result"
    }
   ],
   "source": [
    "data1.groupby(by=['DEPT'])['Eligible'].count()"
   ]
  },
  {
   "cell_type": "code",
   "execution_count": 83,
   "metadata": {},
   "outputs": [
    {
     "data": {
      "text/plain": [
       "DEPT\n",
       "B. Sc IT                  0.868421\n",
       "B.Com ( e-Comm)           0.727273\n",
       "B.Com (IT)                0.560000\n",
       "B.Com (PA) B              0.583333\n",
       "B.Sc (CT)                 1.000000\n",
       "B.Sc (Micro Nano)         0.836364\n",
       "B.Sc ECS                  0.500000\n",
       "B.Sc Mathematics          1.000000\n",
       "BBA CA                    0.636364\n",
       "BBA IB                    0.762712\n",
       "BBA RM                    0.352941\n",
       "BCA                       0.981481\n",
       "BSc Micro Biology         0.932203\n",
       "Biochemistry with Nano    1.000000\n",
       "Biotechnology             0.666667\n",
       "COMMERCE (PA) \"A\"         0.777778\n",
       "CSE                       1.000000\n",
       "CSE                       1.000000\n",
       "ECE                       1.000000\n",
       "EEE                       1.000000\n",
       "M.Sc ( Biotech)           0.909091\n",
       "M.Sc Microbiology         1.000000\n",
       "M.Sc. ComputerScience     1.000000\n",
       "M.Sc.ECS                  0.916667\n",
       "Name: Eligible, dtype: float64"
      ]
     },
     "execution_count": 83,
     "metadata": {},
     "output_type": "execute_result"
    }
   ],
   "source": [
    "data1.groupby(by=['DEPT'])['Eligible'].mean()"
   ]
  },
  {
   "cell_type": "code",
   "execution_count": 84,
   "metadata": {},
   "outputs": [
    {
     "data": {
      "image/png": "[encoded data removed]",
      "text/plain": [
       "<Figure size 1080x720 with 1 Axes>"
      ]
     },
     "metadata": {
      "needs_background": "light"
     },
     "output_type": "display_data"
    }
   ],
   "source": [
    "plt.figure(figsize=(15,10))\n",
    "splot=sns.barplot(data1['DEPT'],data1['Eligible'],ci=None)\n",
    "plt.xticks(rotation=30)\n",
    "plt.xlabel(\"Departments\",fontsize=15,color='black')\n",
    "plt.ylabel(\" % of UG students eligible \",fontsize=15,color='black')\n",
    "plt.title(\"Departmentwise students eligible for placements\",fontdict={'fontsize':20,'color':'magenta'})\n",
    "for p in splot.patches:\n",
    "    splot.annotate(format(p.get_height(), '.2f'), (p.get_x() + p.get_width() / 2., p.get_height()), ha = 'center', va = 'center', xytext = (0, 10),textcoords = 'offset points')"
   ]
  },
  {
   "cell_type": "markdown",
   "metadata": {},
   "source": [
    "## Define X (Predictor) and y(Target) variables\n"
   ]
  },
  {
   "cell_type": "code",
   "execution_count": 85,
   "metadata": {},
   "outputs": [],
   "source": [
    "X=data1.loc[:,['DEPT','COLLEGE','GENDER','UG','PG']]\n",
    "y=data1.Eligible"
   ]
  },
  {
   "cell_type": "code",
   "execution_count": 86,
   "metadata": {},
   "outputs": [
    {
     "data": {
      "text/html": [
       "<div>\n",
       "<style scoped>\n",
       "    .dataframe tbody tr th:only-of-type {\n",
       "        vertical-align: middle;\n",
       "    }\n",
       "\n",
       "    .dataframe tbody tr th {\n",
       "        vertical-align: top;\n",
       "    }\n",
       "\n",
       "    .dataframe thead th {\n",
       "        text-align: right;\n",
       "    }\n",
       "</style>\n",
       "<table border=\"1\" class=\"dataframe\">\n",
       "  <thead>\n",
       "    <tr style=\"text-align: right;\">\n",
       "      <th></th>\n",
       "      <th>DEPT</th>\n",
       "      <th>COLLEGE</th>\n",
       "      <th>GENDER</th>\n",
       "      <th>UG</th>\n",
       "      <th>PG</th>\n",
       "    </tr>\n",
       "  </thead>\n",
       "  <tbody>\n",
       "    <tr>\n",
       "      <th>0</th>\n",
       "      <td>B. Sc IT</td>\n",
       "      <td>NEHRU ARTS AND SCIENCE COLLEGE</td>\n",
       "      <td>Female</td>\n",
       "      <td>67.0</td>\n",
       "      <td>65.25</td>\n",
       "    </tr>\n",
       "    <tr>\n",
       "      <th>1</th>\n",
       "      <td>B. Sc IT</td>\n",
       "      <td>NEHRU ARTS AND SCIENCE COLLEGE</td>\n",
       "      <td>Male</td>\n",
       "      <td>67.0</td>\n",
       "      <td>65.25</td>\n",
       "    </tr>\n",
       "    <tr>\n",
       "      <th>2</th>\n",
       "      <td>B. Sc IT</td>\n",
       "      <td>NEHRU ARTS AND SCIENCE COLLEGE</td>\n",
       "      <td>Female</td>\n",
       "      <td>71.0</td>\n",
       "      <td>65.25</td>\n",
       "    </tr>\n",
       "    <tr>\n",
       "      <th>3</th>\n",
       "      <td>B. Sc IT</td>\n",
       "      <td>NEHRU ARTS AND SCIENCE COLLEGE</td>\n",
       "      <td>Male</td>\n",
       "      <td>60.0</td>\n",
       "      <td>65.25</td>\n",
       "    </tr>\n",
       "    <tr>\n",
       "      <th>4</th>\n",
       "      <td>B. Sc IT</td>\n",
       "      <td>NEHRU ARTS AND SCIENCE COLLEGE</td>\n",
       "      <td>Male</td>\n",
       "      <td>65.0</td>\n",
       "      <td>65.25</td>\n",
       "    </tr>\n",
       "    <tr>\n",
       "      <th>...</th>\n",
       "      <td>...</td>\n",
       "      <td>...</td>\n",
       "      <td>...</td>\n",
       "      <td>...</td>\n",
       "      <td>...</td>\n",
       "    </tr>\n",
       "    <tr>\n",
       "      <th>662</th>\n",
       "      <td>EEE</td>\n",
       "      <td>NIET</td>\n",
       "      <td>Female</td>\n",
       "      <td>71.3</td>\n",
       "      <td>70.00</td>\n",
       "    </tr>\n",
       "    <tr>\n",
       "      <th>663</th>\n",
       "      <td>CSE</td>\n",
       "      <td>NIT</td>\n",
       "      <td>Female</td>\n",
       "      <td>82.0</td>\n",
       "      <td>70.00</td>\n",
       "    </tr>\n",
       "    <tr>\n",
       "      <th>664</th>\n",
       "      <td>CSE</td>\n",
       "      <td>NIT</td>\n",
       "      <td>Female</td>\n",
       "      <td>75.0</td>\n",
       "      <td>70.00</td>\n",
       "    </tr>\n",
       "    <tr>\n",
       "      <th>665</th>\n",
       "      <td>CSE</td>\n",
       "      <td>NIT</td>\n",
       "      <td>Female</td>\n",
       "      <td>81.0</td>\n",
       "      <td>70.00</td>\n",
       "    </tr>\n",
       "    <tr>\n",
       "      <th>666</th>\n",
       "      <td>CSE</td>\n",
       "      <td>NIT</td>\n",
       "      <td>Female</td>\n",
       "      <td>72.0</td>\n",
       "      <td>70.00</td>\n",
       "    </tr>\n",
       "  </tbody>\n",
       "</table>\n",
       "<p>664 rows × 5 columns</p>\n",
       "</div>"
      ],
      "text/plain": [
       "         DEPT                         COLLEGE  GENDER    UG     PG\n",
       "0    B. Sc IT  NEHRU ARTS AND SCIENCE COLLEGE  Female  67.0  65.25\n",
       "1    B. Sc IT  NEHRU ARTS AND SCIENCE COLLEGE    Male  67.0  65.25\n",
       "2    B. Sc IT  NEHRU ARTS AND SCIENCE COLLEGE  Female  71.0  65.25\n",
       "3    B. Sc IT  NEHRU ARTS AND SCIENCE COLLEGE    Male  60.0  65.25\n",
       "4    B. Sc IT  NEHRU ARTS AND SCIENCE COLLEGE    Male  65.0  65.25\n",
       "..        ...                             ...     ...   ...    ...\n",
       "662       EEE                            NIET  Female  71.3  70.00\n",
       "663       CSE                             NIT  Female  82.0  70.00\n",
       "664       CSE                             NIT  Female  75.0  70.00\n",
       "665       CSE                             NIT  Female  81.0  70.00\n",
       "666      CSE                              NIT  Female  72.0  70.00\n",
       "\n",
       "[664 rows x 5 columns]"
      ]
     },
     "execution_count": 86,
     "metadata": {},
     "output_type": "execute_result"
    }
   ],
   "source": [
    "X"
   ]
  },
  {
   "cell_type": "code",
   "execution_count": 87,
   "metadata": {},
   "outputs": [
    {
     "data": {
      "text/plain": [
       "0      1\n",
       "1      1\n",
       "2      1\n",
       "3      1\n",
       "4      1\n",
       "      ..\n",
       "662    1\n",
       "663    1\n",
       "664    1\n",
       "665    1\n",
       "666    1\n",
       "Name: Eligible, Length: 664, dtype: int32"
      ]
     },
     "execution_count": 87,
     "metadata": {},
     "output_type": "execute_result"
    }
   ],
   "source": [
    "y"
   ]
  },
  {
   "cell_type": "code",
   "execution_count": 88,
   "metadata": {},
   "outputs": [
    {
     "name": "stdout",
     "output_type": "stream",
     "text": [
      "<class 'pandas.core.frame.DataFrame'>\n",
      "Int64Index: 664 entries, 0 to 666\n",
      "Data columns (total 5 columns):\n",
      " #   Column   Non-Null Count  Dtype  \n",
      "---  ------   --------------  -----  \n",
      " 0   DEPT     664 non-null    object \n",
      " 1   COLLEGE  664 non-null    object \n",
      " 2   GENDER   664 non-null    object \n",
      " 3   UG       664 non-null    float64\n",
      " 4   PG       664 non-null    float64\n",
      "dtypes: float64(2), object(3)\n",
      "memory usage: 51.1+ KB\n"
     ]
    }
   ],
   "source": [
    "X.info()"
   ]
  },
  {
   "cell_type": "markdown",
   "metadata": {},
   "source": [
    "## Using Label Encoder"
   ]
  },
  {
   "cell_type": "code",
   "execution_count": 89,
   "metadata": {},
   "outputs": [],
   "source": [
    "enc=LabelEncoder()\n",
    "X.DEPT=enc.fit_transform(X.DEPT)\n",
    "X.COLLEGE=enc.fit_transform(X.COLLEGE)\n",
    "X.GENDER=enc.fit_transform(X.GENDER)\n"
   ]
  },
  {
   "cell_type": "code",
   "execution_count": 90,
   "metadata": {},
   "outputs": [
    {
     "name": "stdout",
     "output_type": "stream",
     "text": [
      "<class 'pandas.core.frame.DataFrame'>\n",
      "Int64Index: 664 entries, 0 to 666\n",
      "Data columns (total 5 columns):\n",
      " #   Column   Non-Null Count  Dtype  \n",
      "---  ------   --------------  -----  \n",
      " 0   DEPT     664 non-null    int32  \n",
      " 1   COLLEGE  664 non-null    int32  \n",
      " 2   GENDER   664 non-null    int32  \n",
      " 3   UG       664 non-null    float64\n",
      " 4   PG       664 non-null    float64\n",
      "dtypes: float64(2), int32(3)\n",
      "memory usage: 43.3 KB\n"
     ]
    }
   ],
   "source": [
    "X.info()"
   ]
  },
  {
   "cell_type": "code",
   "execution_count": 91,
   "metadata": {},
   "outputs": [
    {
     "data": {
      "text/html": [
       "<div>\n",
       "<style scoped>\n",
       "    .dataframe tbody tr th:only-of-type {\n",
       "        vertical-align: middle;\n",
       "    }\n",
       "\n",
       "    .dataframe tbody tr th {\n",
       "        vertical-align: top;\n",
       "    }\n",
       "\n",
       "    .dataframe thead th {\n",
       "        text-align: right;\n",
       "    }\n",
       "</style>\n",
       "<table border=\"1\" class=\"dataframe\">\n",
       "  <thead>\n",
       "    <tr style=\"text-align: right;\">\n",
       "      <th></th>\n",
       "      <th>DEPT</th>\n",
       "      <th>COLLEGE</th>\n",
       "      <th>GENDER</th>\n",
       "      <th>UG</th>\n",
       "      <th>PG</th>\n",
       "    </tr>\n",
       "  </thead>\n",
       "  <tbody>\n",
       "    <tr>\n",
       "      <th>0</th>\n",
       "      <td>0</td>\n",
       "      <td>0</td>\n",
       "      <td>0</td>\n",
       "      <td>67.0</td>\n",
       "      <td>65.25</td>\n",
       "    </tr>\n",
       "    <tr>\n",
       "      <th>1</th>\n",
       "      <td>0</td>\n",
       "      <td>0</td>\n",
       "      <td>1</td>\n",
       "      <td>67.0</td>\n",
       "      <td>65.25</td>\n",
       "    </tr>\n",
       "    <tr>\n",
       "      <th>2</th>\n",
       "      <td>0</td>\n",
       "      <td>0</td>\n",
       "      <td>0</td>\n",
       "      <td>71.0</td>\n",
       "      <td>65.25</td>\n",
       "    </tr>\n",
       "    <tr>\n",
       "      <th>3</th>\n",
       "      <td>0</td>\n",
       "      <td>0</td>\n",
       "      <td>1</td>\n",
       "      <td>60.0</td>\n",
       "      <td>65.25</td>\n",
       "    </tr>\n",
       "    <tr>\n",
       "      <th>4</th>\n",
       "      <td>0</td>\n",
       "      <td>0</td>\n",
       "      <td>1</td>\n",
       "      <td>65.0</td>\n",
       "      <td>65.25</td>\n",
       "    </tr>\n",
       "  </tbody>\n",
       "</table>\n",
       "</div>"
      ],
      "text/plain": [
       "   DEPT  COLLEGE  GENDER    UG     PG\n",
       "0     0        0       0  67.0  65.25\n",
       "1     0        0       1  67.0  65.25\n",
       "2     0        0       0  71.0  65.25\n",
       "3     0        0       1  60.0  65.25\n",
       "4     0        0       1  65.0  65.25"
      ]
     },
     "execution_count": 91,
     "metadata": {},
     "output_type": "execute_result"
    }
   ],
   "source": [
    "X.head()"
   ]
  },
  {
   "cell_type": "markdown",
   "metadata": {},
   "source": [
    "## Correlation Matrix"
   ]
  },
  {
   "cell_type": "code",
   "execution_count": 92,
   "metadata": {},
   "outputs": [
    {
     "data": {
      "text/html": [
       "<div>\n",
       "<style scoped>\n",
       "    .dataframe tbody tr th:only-of-type {\n",
       "        vertical-align: middle;\n",
       "    }\n",
       "\n",
       "    .dataframe tbody tr th {\n",
       "        vertical-align: top;\n",
       "    }\n",
       "\n",
       "    .dataframe thead th {\n",
       "        text-align: right;\n",
       "    }\n",
       "</style>\n",
       "<table border=\"1\" class=\"dataframe\">\n",
       "  <thead>\n",
       "    <tr style=\"text-align: right;\">\n",
       "      <th></th>\n",
       "      <th>S.NO</th>\n",
       "      <th>UG</th>\n",
       "      <th>PG</th>\n",
       "      <th>10TH</th>\n",
       "      <th>12TH</th>\n",
       "      <th>Eligible</th>\n",
       "    </tr>\n",
       "  </thead>\n",
       "  <tbody>\n",
       "    <tr>\n",
       "      <th>S.NO</th>\n",
       "      <td>1.000000</td>\n",
       "      <td>-0.078412</td>\n",
       "      <td>0.595481</td>\n",
       "      <td>-0.113448</td>\n",
       "      <td>0.058581</td>\n",
       "      <td>-0.049934</td>\n",
       "    </tr>\n",
       "    <tr>\n",
       "      <th>UG</th>\n",
       "      <td>-0.078412</td>\n",
       "      <td>1.000000</td>\n",
       "      <td>0.084109</td>\n",
       "      <td>0.460959</td>\n",
       "      <td>0.538195</td>\n",
       "      <td>0.712998</td>\n",
       "    </tr>\n",
       "    <tr>\n",
       "      <th>PG</th>\n",
       "      <td>0.595481</td>\n",
       "      <td>0.084109</td>\n",
       "      <td>1.000000</td>\n",
       "      <td>0.000493</td>\n",
       "      <td>0.055137</td>\n",
       "      <td>0.050235</td>\n",
       "    </tr>\n",
       "    <tr>\n",
       "      <th>10TH</th>\n",
       "      <td>-0.113448</td>\n",
       "      <td>0.460959</td>\n",
       "      <td>0.000493</td>\n",
       "      <td>1.000000</td>\n",
       "      <td>0.548676</td>\n",
       "      <td>0.369104</td>\n",
       "    </tr>\n",
       "    <tr>\n",
       "      <th>12TH</th>\n",
       "      <td>0.058581</td>\n",
       "      <td>0.538195</td>\n",
       "      <td>0.055137</td>\n",
       "      <td>0.548676</td>\n",
       "      <td>1.000000</td>\n",
       "      <td>0.394214</td>\n",
       "    </tr>\n",
       "    <tr>\n",
       "      <th>Eligible</th>\n",
       "      <td>-0.049934</td>\n",
       "      <td>0.712998</td>\n",
       "      <td>0.050235</td>\n",
       "      <td>0.369104</td>\n",
       "      <td>0.394214</td>\n",
       "      <td>1.000000</td>\n",
       "    </tr>\n",
       "  </tbody>\n",
       "</table>\n",
       "</div>"
      ],
      "text/plain": [
       "              S.NO        UG        PG      10TH      12TH  Eligible\n",
       "S.NO      1.000000 -0.078412  0.595481 -0.113448  0.058581 -0.049934\n",
       "UG       -0.078412  1.000000  0.084109  0.460959  0.538195  0.712998\n",
       "PG        0.595481  0.084109  1.000000  0.000493  0.055137  0.050235\n",
       "10TH     -0.113448  0.460959  0.000493  1.000000  0.548676  0.369104\n",
       "12TH      0.058581  0.538195  0.055137  0.548676  1.000000  0.394214\n",
       "Eligible -0.049934  0.712998  0.050235  0.369104  0.394214  1.000000"
      ]
     },
     "execution_count": 92,
     "metadata": {},
     "output_type": "execute_result"
    }
   ],
   "source": [
    "corr=data1.corr()\n",
    "corr"
   ]
  },
  {
   "cell_type": "code",
   "execution_count": 93,
   "metadata": {},
   "outputs": [
    {
     "data": {
      "text/plain": [
       "<matplotlib.axes._subplots.AxesSubplot at 0xb893048>"
      ]
     },
     "execution_count": 93,
     "metadata": {},
     "output_type": "execute_result"
    },
    {
     "data": {
      "image/png": "[encoded data removed]",
      "text/plain": [
       "<Figure size 720x720 with 2 Axes>"
      ]
     },
     "metadata": {
      "needs_background": "light"
     },
     "output_type": "display_data"
    }
   ],
   "source": [
    "plt.figure(figsize=(10,10))\n",
    "sns.set_style('whitegrid')\n",
    "sns.heatmap(corr,vmin=-1, vmax=1, center=0,fmt='.2g',annot_kws=None,linewidths=0,linecolor='white',xticklabels='auto',\n",
    "    yticklabels='auto',cbar=True,cmap='viridis',square=True,annot=True)"
   ]
  },
  {
   "cell_type": "markdown",
   "metadata": {},
   "source": [
    "## Using train-test split\n"
   ]
  },
  {
   "cell_type": "code",
   "execution_count": 94,
   "metadata": {},
   "outputs": [],
   "source": [
    "X_train, X_test, y_train, y_test =train_test_split(X,y,test_size=0.3,random_state=10)"
   ]
  },
  {
   "cell_type": "code",
   "execution_count": 95,
   "metadata": {},
   "outputs": [
    {
     "name": "stdout",
     "output_type": "stream",
     "text": [
      "X_train shape =  (464, 5)\n",
      "X_test shape =  (200, 5)\n",
      "y_train shape =  (464,)\n",
      "y_test shape =  (200,)\n"
     ]
    }
   ],
   "source": [
    "print('X_train shape = ',X_train.shape)\n",
    "print('X_test shape = ',X_test.shape)\n",
    "print('y_train shape = ',y_train.shape)\n",
    "print('y_test shape = ',y_test.shape)"
   ]
  },
  {
   "cell_type": "markdown",
   "metadata": {},
   "source": [
    "## Different Machine Learning Algorithms used "
   ]
  },
  {
   "cell_type": "markdown",
   "metadata": {},
   "source": [
    "## 1) Using XGBoost algorithm"
   ]
  },
  {
   "cell_type": "code",
   "execution_count": 96,
   "metadata": {},
   "outputs": [],
   "source": [
    "from xgboost import XGBClassifier"
   ]
  },
  {
   "cell_type": "markdown",
   "metadata": {},
   "source": [
    "## Define the Model\n"
   ]
  },
  {
   "cell_type": "code",
   "execution_count": 97,
   "metadata": {},
   "outputs": [
    {
     "data": {
      "text/plain": [
       "XGBClassifier(base_score=0.5, booster=None, colsample_bylevel=1,\n",
       "              colsample_bynode=1, colsample_bytree=1, gamma=0, gpu_id=-1,\n",
       "              importance_type='gain', interaction_constraints=None,\n",
       "              learning_rate=0.001, max_delta_step=0, max_depth=5,\n",
       "              min_child_weight=1, missing=nan, monotone_constraints=None,\n",
       "              n_estimators=40, n_jobs=0, num_parallel_tree=1,\n",
       "              objective='binary:logistic', random_state=50, reg_alpha=0,\n",
       "              reg_lambda=1, scale_pos_weight=1, subsample=1, tree_method=None,\n",
       "              validate_parameters=False, verbosity=None)"
      ]
     },
     "execution_count": 97,
     "metadata": {},
     "output_type": "execute_result"
    }
   ],
   "source": [
    "model=XGBClassifier(max_depth=5,learning_rate=0.001,random_state=50,n_estimators=40)\n",
    "model.fit(X_train,y_train)"
   ]
  },
  {
   "cell_type": "markdown",
   "metadata": {},
   "source": [
    "## Predict the Model"
   ]
  },
  {
   "cell_type": "code",
   "execution_count": 98,
   "metadata": {},
   "outputs": [
    {
     "name": "stdout",
     "output_type": "stream",
     "text": [
      "\n",
      " Accuracy of Training =  99.78448275862068\n",
      "\n",
      " Accuracy of Testing =  98.0\n",
      "\n",
      " Precision score: 98.04848484848485\n",
      "\n",
      " Recall score: 98.0\n",
      "\n",
      " F1 score: 97.95821588459626\n"
     ]
    }
   ],
   "source": [
    "y_train_predict=model.predict(X_train)\n",
    "y_predict = model.predict(X_test)\n",
    "\n",
    "print(\"\\n Accuracy of Training = \",(accuracy_score(y_train,y_train_predict)*100))\n",
    "print(\"\\n Accuracy of Testing = \",(accuracy_score(y_test,y_predict)*100))\n",
    "print(\"\\n Precision score: {}\".format(precision_score(y_test,y_predict,average='weighted')*100))\n",
    "print(\"\\n Recall score: {}\".format(recall_score(y_test,y_predict,average='weighted')*100))\n",
    "print(\"\\n F1 score: {}\".format(f1_score(y_test,y_predict,average='weighted')*100))"
   ]
  },
  {
   "cell_type": "markdown",
   "metadata": {},
   "source": [
    "## Generating crosstab, confusion matrix, classification report"
   ]
  },
  {
   "cell_type": "code",
   "execution_count": 99,
   "metadata": {},
   "outputs": [
    {
     "data": {
      "text/html": [
       "<div>\n",
       "<style scoped>\n",
       "    .dataframe tbody tr th:only-of-type {\n",
       "        vertical-align: middle;\n",
       "    }\n",
       "\n",
       "    .dataframe tbody tr th {\n",
       "        vertical-align: top;\n",
       "    }\n",
       "\n",
       "    .dataframe thead th {\n",
       "        text-align: right;\n",
       "    }\n",
       "</style>\n",
       "<table border=\"1\" class=\"dataframe\">\n",
       "  <thead>\n",
       "    <tr style=\"text-align: right;\">\n",
       "      <th>col_0</th>\n",
       "      <th>0</th>\n",
       "      <th>1</th>\n",
       "    </tr>\n",
       "    <tr>\n",
       "      <th>Eligible</th>\n",
       "      <th></th>\n",
       "      <th></th>\n",
       "    </tr>\n",
       "  </thead>\n",
       "  <tbody>\n",
       "    <tr>\n",
       "      <th>0</th>\n",
       "      <td>35</td>\n",
       "      <td>4</td>\n",
       "    </tr>\n",
       "    <tr>\n",
       "      <th>1</th>\n",
       "      <td>0</td>\n",
       "      <td>161</td>\n",
       "    </tr>\n",
       "  </tbody>\n",
       "</table>\n",
       "</div>"
      ],
      "text/plain": [
       "col_0      0    1\n",
       "Eligible         \n",
       "0         35    4\n",
       "1          0  161"
      ]
     },
     "execution_count": 99,
     "metadata": {},
     "output_type": "execute_result"
    }
   ],
   "source": [
    "pd.crosstab(y_test,y_predict)"
   ]
  },
  {
   "cell_type": "code",
   "execution_count": 100,
   "metadata": {},
   "outputs": [
    {
     "name": "stdout",
     "output_type": "stream",
     "text": [
      "[[ 35   4]\n",
      " [  0 161]]\n"
     ]
    }
   ],
   "source": [
    "print(confusion_matrix(y_test,y_predict))"
   ]
  },
  {
   "cell_type": "code",
   "execution_count": 101,
   "metadata": {},
   "outputs": [
    {
     "name": "stdout",
     "output_type": "stream",
     "text": [
      "              precision    recall  f1-score   support\n",
      "\n",
      "           0       1.00      0.90      0.95        39\n",
      "           1       0.98      1.00      0.99       161\n",
      "\n",
      "    accuracy                           0.98       200\n",
      "   macro avg       0.99      0.95      0.97       200\n",
      "weighted avg       0.98      0.98      0.98       200\n",
      "\n"
     ]
    }
   ],
   "source": [
    "print(classification_report(y_test,y_predict))"
   ]
  },
  {
   "cell_type": "markdown",
   "metadata": {},
   "source": [
    "## 2) Using Random Forest Classifier"
   ]
  },
  {
   "cell_type": "code",
   "execution_count": 102,
   "metadata": {},
   "outputs": [],
   "source": [
    "from sklearn.ensemble import RandomForestClassifier"
   ]
  },
  {
   "cell_type": "markdown",
   "metadata": {},
   "source": [
    "## Define the Model"
   ]
  },
  {
   "cell_type": "code",
   "execution_count": 103,
   "metadata": {},
   "outputs": [
    {
     "data": {
      "text/plain": [
       "RandomForestClassifier(bootstrap=True, ccp_alpha=0.0, class_weight=None,\n",
       "                       criterion='gini', max_depth=None, max_features='auto',\n",
       "                       max_leaf_nodes=None, max_samples=None,\n",
       "                       min_impurity_decrease=0.0, min_impurity_split=None,\n",
       "                       min_samples_leaf=1, min_samples_split=2,\n",
       "                       min_weight_fraction_leaf=0.0, n_estimators=250,\n",
       "                       n_jobs=None, oob_score=False, random_state=10, verbose=0,\n",
       "                       warm_start=False)"
      ]
     },
     "execution_count": 103,
     "metadata": {},
     "output_type": "execute_result"
    }
   ],
   "source": [
    "model=RandomForestClassifier(n_estimators=250,random_state=10,criterion='gini')\n",
    "model.fit(X_train,y_train)"
   ]
  },
  {
   "cell_type": "markdown",
   "metadata": {},
   "source": [
    "## Predict the Model"
   ]
  },
  {
   "cell_type": "code",
   "execution_count": 104,
   "metadata": {},
   "outputs": [
    {
     "name": "stdout",
     "output_type": "stream",
     "text": [
      "\n",
      " Accuracy of Training =  100.0\n",
      "\n",
      " Accuracy of Testing =  98.5\n",
      "\n",
      " Precision score: 98.52743902439025\n",
      "\n",
      " Recall score: 98.5\n",
      "\n",
      " F1 score: 98.47692307692307\n"
     ]
    }
   ],
   "source": [
    "y_train_predict=model.predict(X_train)\n",
    "y_predict = model.predict(X_test)\n",
    "\n",
    "print(\"\\n Accuracy of Training = \",(accuracy_score(y_train,y_train_predict)*100))\n",
    "print(\"\\n Accuracy of Testing = \",(accuracy_score(y_test,y_predict)*100))\n",
    "print(\"\\n Precision score: {}\".format(precision_score(y_test,y_predict,average='weighted')*100))\n",
    "print(\"\\n Recall score: {}\".format(recall_score(y_test,y_predict,average='weighted')*100))\n",
    "print(\"\\n F1 score: {}\".format(f1_score(y_test,y_predict,average='weighted')*100))"
   ]
  },
  {
   "cell_type": "markdown",
   "metadata": {},
   "source": [
    "## Generating crosstab, confusion matrix, classification report"
   ]
  },
  {
   "cell_type": "code",
   "execution_count": 105,
   "metadata": {},
   "outputs": [
    {
     "name": "stdout",
     "output_type": "stream",
     "text": [
      "[[ 36   3]\n",
      " [  0 161]]\n"
     ]
    }
   ],
   "source": [
    "print(confusion_matrix(y_test,y_predict))"
   ]
  },
  {
   "cell_type": "code",
   "execution_count": 106,
   "metadata": {},
   "outputs": [
    {
     "data": {
      "text/html": [
       "<div>\n",
       "<style scoped>\n",
       "    .dataframe tbody tr th:only-of-type {\n",
       "        vertical-align: middle;\n",
       "    }\n",
       "\n",
       "    .dataframe tbody tr th {\n",
       "        vertical-align: top;\n",
       "    }\n",
       "\n",
       "    .dataframe thead th {\n",
       "        text-align: right;\n",
       "    }\n",
       "</style>\n",
       "<table border=\"1\" class=\"dataframe\">\n",
       "  <thead>\n",
       "    <tr style=\"text-align: right;\">\n",
       "      <th>col_0</th>\n",
       "      <th>0</th>\n",
       "      <th>1</th>\n",
       "    </tr>\n",
       "    <tr>\n",
       "      <th>Eligible</th>\n",
       "      <th></th>\n",
       "      <th></th>\n",
       "    </tr>\n",
       "  </thead>\n",
       "  <tbody>\n",
       "    <tr>\n",
       "      <th>0</th>\n",
       "      <td>36</td>\n",
       "      <td>3</td>\n",
       "    </tr>\n",
       "    <tr>\n",
       "      <th>1</th>\n",
       "      <td>0</td>\n",
       "      <td>161</td>\n",
       "    </tr>\n",
       "  </tbody>\n",
       "</table>\n",
       "</div>"
      ],
      "text/plain": [
       "col_0      0    1\n",
       "Eligible         \n",
       "0         36    3\n",
       "1          0  161"
      ]
     },
     "execution_count": 106,
     "metadata": {},
     "output_type": "execute_result"
    }
   ],
   "source": [
    "pd.crosstab(y_test,y_predict)"
   ]
  },
  {
   "cell_type": "code",
   "execution_count": 107,
   "metadata": {},
   "outputs": [
    {
     "name": "stdout",
     "output_type": "stream",
     "text": [
      "              precision    recall  f1-score   support\n",
      "\n",
      "           0       1.00      0.92      0.96        39\n",
      "           1       0.98      1.00      0.99       161\n",
      "\n",
      "    accuracy                           0.98       200\n",
      "   macro avg       0.99      0.96      0.98       200\n",
      "weighted avg       0.99      0.98      0.98       200\n",
      "\n"
     ]
    }
   ],
   "source": [
    "print(classification_report(y_test,y_predict))"
   ]
  },
  {
   "cell_type": "markdown",
   "metadata": {},
   "source": [
    "## 3) Using Gradient Boosting Classifier"
   ]
  },
  {
   "cell_type": "code",
   "execution_count": 108,
   "metadata": {},
   "outputs": [],
   "source": [
    "from sklearn.ensemble import GradientBoostingClassifier"
   ]
  },
  {
   "cell_type": "markdown",
   "metadata": {},
   "source": [
    "## Define the Model"
   ]
  },
  {
   "cell_type": "code",
   "execution_count": 109,
   "metadata": {},
   "outputs": [
    {
     "data": {
      "text/plain": [
       "GradientBoostingClassifier(ccp_alpha=0.0, criterion='friedman_mse', init=None,\n",
       "                           learning_rate=0.1, loss='deviance', max_depth=3,\n",
       "                           max_features=None, max_leaf_nodes=None,\n",
       "                           min_impurity_decrease=0.0, min_impurity_split=None,\n",
       "                           min_samples_leaf=1, min_samples_split=2,\n",
       "                           min_weight_fraction_leaf=0.0, n_estimators=250,\n",
       "                           n_iter_no_change=None, presort='deprecated',\n",
       "                           random_state=10, subsample=1.0, tol=0.0001,\n",
       "                           validation_fraction=0.1, verbose=0,\n",
       "                           warm_start=False)"
      ]
     },
     "execution_count": 109,
     "metadata": {},
     "output_type": "execute_result"
    }
   ],
   "source": [
    "model=GradientBoostingClassifier(n_estimators=250,random_state=10)\n",
    "model.fit(X_train,y_train)"
   ]
  },
  {
   "cell_type": "markdown",
   "metadata": {},
   "source": [
    "## Predict the Model"
   ]
  },
  {
   "cell_type": "code",
   "execution_count": 110,
   "metadata": {},
   "outputs": [
    {
     "name": "stdout",
     "output_type": "stream",
     "text": [
      "\n",
      " Accuracy of Training =  100.0\n",
      "\n",
      " Accuracy of Testing =  98.5\n",
      "\n",
      " Precision score: 98.49301494476933\n",
      "\n",
      " Recall score: 98.5\n",
      "\n",
      " F1 score: 98.49258172168389\n"
     ]
    }
   ],
   "source": [
    "y_train_predict=model.predict(X_train)\n",
    "y_predict = model.predict(X_test)\n",
    "\n",
    "print(\"\\n Accuracy of Training = \",(accuracy_score(y_train,y_train_predict)*100))\n",
    "print(\"\\n Accuracy of Testing = \",(accuracy_score(y_test,y_predict)*100))\n",
    "print(\"\\n Precision score: {}\".format(precision_score(y_test,y_predict,average='weighted')*100))\n",
    "print(\"\\n Recall score: {}\".format(recall_score(y_test,y_predict,average='weighted')*100))\n",
    "print(\"\\n F1 score: {}\".format(f1_score(y_test,y_predict,average='weighted')*100))"
   ]
  },
  {
   "cell_type": "markdown",
   "metadata": {},
   "source": [
    "## Generating crosstab, confusion matrix, classification report"
   ]
  },
  {
   "cell_type": "code",
   "execution_count": 111,
   "metadata": {},
   "outputs": [
    {
     "name": "stdout",
     "output_type": "stream",
     "text": [
      "[[ 37   2]\n",
      " [  1 160]]\n"
     ]
    },
    {
     "data": {
      "text/html": [
       "<div>\n",
       "<style scoped>\n",
       "    .dataframe tbody tr th:only-of-type {\n",
       "        vertical-align: middle;\n",
       "    }\n",
       "\n",
       "    .dataframe tbody tr th {\n",
       "        vertical-align: top;\n",
       "    }\n",
       "\n",
       "    .dataframe thead th {\n",
       "        text-align: right;\n",
       "    }\n",
       "</style>\n",
       "<table border=\"1\" class=\"dataframe\">\n",
       "  <thead>\n",
       "    <tr style=\"text-align: right;\">\n",
       "      <th>col_0</th>\n",
       "      <th>0</th>\n",
       "      <th>1</th>\n",
       "    </tr>\n",
       "    <tr>\n",
       "      <th>Eligible</th>\n",
       "      <th></th>\n",
       "      <th></th>\n",
       "    </tr>\n",
       "  </thead>\n",
       "  <tbody>\n",
       "    <tr>\n",
       "      <th>0</th>\n",
       "      <td>37</td>\n",
       "      <td>2</td>\n",
       "    </tr>\n",
       "    <tr>\n",
       "      <th>1</th>\n",
       "      <td>1</td>\n",
       "      <td>160</td>\n",
       "    </tr>\n",
       "  </tbody>\n",
       "</table>\n",
       "</div>"
      ],
      "text/plain": [
       "col_0      0    1\n",
       "Eligible         \n",
       "0         37    2\n",
       "1          1  160"
      ]
     },
     "execution_count": 111,
     "metadata": {},
     "output_type": "execute_result"
    }
   ],
   "source": [
    "print(confusion_matrix(y_test,y_predict))\n",
    "pd.crosstab(y_test,y_predict)"
   ]
  },
  {
   "cell_type": "code",
   "execution_count": 112,
   "metadata": {},
   "outputs": [
    {
     "name": "stdout",
     "output_type": "stream",
     "text": [
      "              precision    recall  f1-score   support\n",
      "\n",
      "           0       0.97      0.95      0.96        39\n",
      "           1       0.99      0.99      0.99       161\n",
      "\n",
      "    accuracy                           0.98       200\n",
      "   macro avg       0.98      0.97      0.98       200\n",
      "weighted avg       0.98      0.98      0.98       200\n",
      "\n"
     ]
    }
   ],
   "source": [
    "print(classification_report(y_test,y_predict))"
   ]
  },
  {
   "cell_type": "markdown",
   "metadata": {},
   "source": [
    "## 4) Using DecisionTree Classifier"
   ]
  },
  {
   "cell_type": "code",
   "execution_count": 113,
   "metadata": {},
   "outputs": [],
   "source": [
    "from sklearn.tree import DecisionTreeClassifier"
   ]
  },
  {
   "cell_type": "markdown",
   "metadata": {},
   "source": [
    "## Define the Model"
   ]
  },
  {
   "cell_type": "code",
   "execution_count": 114,
   "metadata": {},
   "outputs": [
    {
     "name": "stdout",
     "output_type": "stream",
     "text": [
      " Model Feature Importances =  [0.         0.         0.         0.98550181 0.01449819]\n"
     ]
    }
   ],
   "source": [
    "model=DecisionTreeClassifier(splitter='best',random_state=10,criterion='gini')\n",
    "model.fit(X_train,y_train)\n",
    "print(\" Model Feature Importances = \" ,model.feature_importances_)"
   ]
  },
  {
   "cell_type": "markdown",
   "metadata": {},
   "source": [
    "## Predict the Model"
   ]
  },
  {
   "cell_type": "code",
   "execution_count": 115,
   "metadata": {},
   "outputs": [
    {
     "name": "stdout",
     "output_type": "stream",
     "text": [
      "\n",
      " Accuracy of Training =  100.0\n",
      "\n",
      " Accuracy of Testing =  98.5\n",
      "\n",
      " Precision score: 98.49301494476933\n",
      "\n",
      " Recall score: 98.5\n",
      "\n",
      " F1 score: 98.49258172168389\n"
     ]
    }
   ],
   "source": [
    "y_train_predict=model.predict(X_train)\n",
    "y_predict = model.predict(X_test)\n",
    "\n",
    "print(\"\\n Accuracy of Training = \",(accuracy_score(y_train,y_train_predict)*100))\n",
    "print(\"\\n Accuracy of Testing = \",(accuracy_score(y_test,y_predict)*100))\n",
    "print(\"\\n Precision score: {}\".format(precision_score(y_test,y_predict,average='weighted')*100))\n",
    "print(\"\\n Recall score: {}\".format(recall_score(y_test,y_predict,average='weighted')*100))\n",
    "print(\"\\n F1 score: {}\".format(f1_score(y_test,y_predict,average='weighted')*100))"
   ]
  },
  {
   "cell_type": "markdown",
   "metadata": {},
   "source": [
    "## Generating crosstab, confusion matrix, classification report"
   ]
  },
  {
   "cell_type": "code",
   "execution_count": 116,
   "metadata": {},
   "outputs": [
    {
     "name": "stdout",
     "output_type": "stream",
     "text": [
      "[[ 37   2]\n",
      " [  1 160]]\n"
     ]
    },
    {
     "data": {
      "text/html": [
       "<div>\n",
       "<style scoped>\n",
       "    .dataframe tbody tr th:only-of-type {\n",
       "        vertical-align: middle;\n",
       "    }\n",
       "\n",
       "    .dataframe tbody tr th {\n",
       "        vertical-align: top;\n",
       "    }\n",
       "\n",
       "    .dataframe thead th {\n",
       "        text-align: right;\n",
       "    }\n",
       "</style>\n",
       "<table border=\"1\" class=\"dataframe\">\n",
       "  <thead>\n",
       "    <tr style=\"text-align: right;\">\n",
       "      <th>col_0</th>\n",
       "      <th>0</th>\n",
       "      <th>1</th>\n",
       "    </tr>\n",
       "    <tr>\n",
       "      <th>Eligible</th>\n",
       "      <th></th>\n",
       "      <th></th>\n",
       "    </tr>\n",
       "  </thead>\n",
       "  <tbody>\n",
       "    <tr>\n",
       "      <th>0</th>\n",
       "      <td>37</td>\n",
       "      <td>2</td>\n",
       "    </tr>\n",
       "    <tr>\n",
       "      <th>1</th>\n",
       "      <td>1</td>\n",
       "      <td>160</td>\n",
       "    </tr>\n",
       "  </tbody>\n",
       "</table>\n",
       "</div>"
      ],
      "text/plain": [
       "col_0      0    1\n",
       "Eligible         \n",
       "0         37    2\n",
       "1          1  160"
      ]
     },
     "execution_count": 116,
     "metadata": {},
     "output_type": "execute_result"
    }
   ],
   "source": [
    "print(confusion_matrix(y_test,y_predict))\n",
    "pd.crosstab(y_test,y_predict)"
   ]
  },
  {
   "cell_type": "code",
   "execution_count": 117,
   "metadata": {},
   "outputs": [
    {
     "name": "stdout",
     "output_type": "stream",
     "text": [
      "              precision    recall  f1-score   support\n",
      "\n",
      "           0       0.97      0.95      0.96        39\n",
      "           1       0.99      0.99      0.99       161\n",
      "\n",
      "    accuracy                           0.98       200\n",
      "   macro avg       0.98      0.97      0.98       200\n",
      "weighted avg       0.98      0.98      0.98       200\n",
      "\n"
     ]
    }
   ],
   "source": [
    "print(classification_report(y_test,y_predict))"
   ]
  },
  {
   "cell_type": "markdown",
   "metadata": {},
   "source": [
    "## 5) Using Logistic Regression"
   ]
  },
  {
   "cell_type": "code",
   "execution_count": 118,
   "metadata": {},
   "outputs": [],
   "source": [
    "from sklearn.linear_model import LogisticRegression"
   ]
  },
  {
   "cell_type": "markdown",
   "metadata": {},
   "source": [
    "## Define the Model"
   ]
  },
  {
   "cell_type": "code",
   "execution_count": 119,
   "metadata": {},
   "outputs": [
    {
     "data": {
      "text/plain": [
       "LogisticRegression(C=1.0, class_weight=None, dual=False, fit_intercept=True,\n",
       "                   intercept_scaling=1, l1_ratio=None, max_iter=100,\n",
       "                   multi_class='auto', n_jobs=None, penalty='l2',\n",
       "                   random_state=None, solver='lbfgs', tol=0.0001, verbose=0,\n",
       "                   warm_start=False)"
      ]
     },
     "execution_count": 119,
     "metadata": {},
     "output_type": "execute_result"
    }
   ],
   "source": [
    "model=LogisticRegression()\n",
    "model.fit(X_train,y_train)"
   ]
  },
  {
   "cell_type": "markdown",
   "metadata": {},
   "source": [
    "## Predict the Model"
   ]
  },
  {
   "cell_type": "code",
   "execution_count": 120,
   "metadata": {},
   "outputs": [
    {
     "name": "stdout",
     "output_type": "stream",
     "text": [
      "\n",
      " Accuracy of Training =  99.56896551724138\n",
      "\n",
      " Accuracy of Testing =  99.0\n",
      "\n",
      " Precision score: 99.0122699386503\n",
      "\n",
      " Recall score: 99.0\n",
      "\n",
      " F1 score: 98.98992852501624\n"
     ]
    }
   ],
   "source": [
    "y_train_predict=model.predict(X_train)\n",
    "y_predict= model.predict(X_test)\n",
    "\n",
    "print(\"\\n Accuracy of Training = \",(accuracy_score(y_train,y_train_predict)*100))\n",
    "print(\"\\n Accuracy of Testing = \",(accuracy_score(y_test,y_predict)*100))\n",
    "print(\"\\n Precision score: {}\".format(precision_score(y_test,y_predict,average='weighted')*100))\n",
    "print(\"\\n Recall score: {}\".format(recall_score(y_test,y_predict,average='weighted')*100))\n",
    "print(\"\\n F1 score: {}\".format(f1_score(y_test,y_predict,average='weighted')*100))"
   ]
  },
  {
   "cell_type": "markdown",
   "metadata": {},
   "source": [
    "## Generating crosstab, confusion matrix, classification report"
   ]
  },
  {
   "cell_type": "code",
   "execution_count": 121,
   "metadata": {},
   "outputs": [
    {
     "name": "stdout",
     "output_type": "stream",
     "text": [
      "[[ 37   2]\n",
      " [  0 161]]\n"
     ]
    },
    {
     "data": {
      "text/html": [
       "<div>\n",
       "<style scoped>\n",
       "    .dataframe tbody tr th:only-of-type {\n",
       "        vertical-align: middle;\n",
       "    }\n",
       "\n",
       "    .dataframe tbody tr th {\n",
       "        vertical-align: top;\n",
       "    }\n",
       "\n",
       "    .dataframe thead th {\n",
       "        text-align: right;\n",
       "    }\n",
       "</style>\n",
       "<table border=\"1\" class=\"dataframe\">\n",
       "  <thead>\n",
       "    <tr style=\"text-align: right;\">\n",
       "      <th>col_0</th>\n",
       "      <th>0</th>\n",
       "      <th>1</th>\n",
       "    </tr>\n",
       "    <tr>\n",
       "      <th>Eligible</th>\n",
       "      <th></th>\n",
       "      <th></th>\n",
       "    </tr>\n",
       "  </thead>\n",
       "  <tbody>\n",
       "    <tr>\n",
       "      <th>0</th>\n",
       "      <td>37</td>\n",
       "      <td>2</td>\n",
       "    </tr>\n",
       "    <tr>\n",
       "      <th>1</th>\n",
       "      <td>0</td>\n",
       "      <td>161</td>\n",
       "    </tr>\n",
       "  </tbody>\n",
       "</table>\n",
       "</div>"
      ],
      "text/plain": [
       "col_0      0    1\n",
       "Eligible         \n",
       "0         37    2\n",
       "1          0  161"
      ]
     },
     "execution_count": 121,
     "metadata": {},
     "output_type": "execute_result"
    }
   ],
   "source": [
    "print(confusion_matrix(y_test,y_predict))\n",
    "pd.crosstab(y_test,y_predict)"
   ]
  },
  {
   "cell_type": "code",
   "execution_count": 122,
   "metadata": {},
   "outputs": [
    {
     "name": "stdout",
     "output_type": "stream",
     "text": [
      "              precision    recall  f1-score   support\n",
      "\n",
      "           0       1.00      0.95      0.97        39\n",
      "           1       0.99      1.00      0.99       161\n",
      "\n",
      "    accuracy                           0.99       200\n",
      "   macro avg       0.99      0.97      0.98       200\n",
      "weighted avg       0.99      0.99      0.99       200\n",
      "\n"
     ]
    }
   ],
   "source": [
    "print(classification_report(y_test,y_predict))"
   ]
  },
  {
   "cell_type": "markdown",
   "metadata": {},
   "source": [
    "## 6) Using Support Vector Machine (SVM)"
   ]
  },
  {
   "cell_type": "code",
   "execution_count": 123,
   "metadata": {},
   "outputs": [],
   "source": [
    "from sklearn.svm import SVC"
   ]
  },
  {
   "cell_type": "markdown",
   "metadata": {},
   "source": [
    "## Define the Model"
   ]
  },
  {
   "cell_type": "code",
   "execution_count": 124,
   "metadata": {},
   "outputs": [
    {
     "data": {
      "text/plain": [
       "SVC(C=130, break_ties=False, cache_size=200, class_weight=None, coef0=0.0,\n",
       "    decision_function_shape='ovr', degree=3, gamma='scale', kernel='rbf',\n",
       "    max_iter=-1, probability=False, random_state=10, shrinking=True, tol=0.001,\n",
       "    verbose=False)"
      ]
     },
     "execution_count": 124,
     "metadata": {},
     "output_type": "execute_result"
    }
   ],
   "source": [
    "model=SVC(C=130,kernel = 'rbf',random_state=10)\n",
    "model.fit(X_train,y_train)"
   ]
  },
  {
   "cell_type": "markdown",
   "metadata": {},
   "source": [
    "## Predict the Model"
   ]
  },
  {
   "cell_type": "code",
   "execution_count": 125,
   "metadata": {},
   "outputs": [
    {
     "name": "stdout",
     "output_type": "stream",
     "text": [
      "\n",
      " Accuracy of Training =  99.78448275862068\n",
      "\n",
      " Accuracy of Testing =  98.0\n",
      "\n",
      " Precision score: 98.04848484848485\n",
      "\n",
      " Recall score: 98.0\n",
      "\n",
      " F1 score: 97.95821588459626\n"
     ]
    }
   ],
   "source": [
    "y_train_predict=model.predict(X_train)\n",
    "y_predict= model.predict(X_test)\n",
    "\n",
    "print(\"\\n Accuracy of Training = \",(accuracy_score(y_train,y_train_predict)*100))\n",
    "print(\"\\n Accuracy of Testing = \",(accuracy_score(y_test,y_predict)*100))\n",
    "print(\"\\n Precision score: {}\".format(precision_score(y_test,y_predict,average='weighted')*100))\n",
    "print(\"\\n Recall score: {}\".format(recall_score(y_test,y_predict,average='weighted')*100))\n",
    "print(\"\\n F1 score: {}\".format(f1_score(y_test,y_predict,average='weighted')*100))"
   ]
  },
  {
   "cell_type": "markdown",
   "metadata": {},
   "source": [
    "## Generating crosstab, confusion matrix, classification report"
   ]
  },
  {
   "cell_type": "code",
   "execution_count": 126,
   "metadata": {},
   "outputs": [
    {
     "name": "stdout",
     "output_type": "stream",
     "text": [
      "[[ 35   4]\n",
      " [  0 161]]\n"
     ]
    },
    {
     "data": {
      "text/html": [
       "<div>\n",
       "<style scoped>\n",
       "    .dataframe tbody tr th:only-of-type {\n",
       "        vertical-align: middle;\n",
       "    }\n",
       "\n",
       "    .dataframe tbody tr th {\n",
       "        vertical-align: top;\n",
       "    }\n",
       "\n",
       "    .dataframe thead th {\n",
       "        text-align: right;\n",
       "    }\n",
       "</style>\n",
       "<table border=\"1\" class=\"dataframe\">\n",
       "  <thead>\n",
       "    <tr style=\"text-align: right;\">\n",
       "      <th>col_0</th>\n",
       "      <th>0</th>\n",
       "      <th>1</th>\n",
       "    </tr>\n",
       "    <tr>\n",
       "      <th>Eligible</th>\n",
       "      <th></th>\n",
       "      <th></th>\n",
       "    </tr>\n",
       "  </thead>\n",
       "  <tbody>\n",
       "    <tr>\n",
       "      <th>0</th>\n",
       "      <td>35</td>\n",
       "      <td>4</td>\n",
       "    </tr>\n",
       "    <tr>\n",
       "      <th>1</th>\n",
       "      <td>0</td>\n",
       "      <td>161</td>\n",
       "    </tr>\n",
       "  </tbody>\n",
       "</table>\n",
       "</div>"
      ],
      "text/plain": [
       "col_0      0    1\n",
       "Eligible         \n",
       "0         35    4\n",
       "1          0  161"
      ]
     },
     "execution_count": 126,
     "metadata": {},
     "output_type": "execute_result"
    }
   ],
   "source": [
    "print(confusion_matrix(y_test,y_predict))\n",
    "pd.crosstab(y_test,y_predict)"
   ]
  },
  {
   "cell_type": "code",
   "execution_count": 127,
   "metadata": {},
   "outputs": [
    {
     "name": "stdout",
     "output_type": "stream",
     "text": [
      "              precision    recall  f1-score   support\n",
      "\n",
      "           0       1.00      0.90      0.95        39\n",
      "           1       0.98      1.00      0.99       161\n",
      "\n",
      "    accuracy                           0.98       200\n",
      "   macro avg       0.99      0.95      0.97       200\n",
      "weighted avg       0.98      0.98      0.98       200\n",
      "\n"
     ]
    }
   ],
   "source": [
    "print(classification_report(y_test,y_predict))"
   ]
  },
  {
   "cell_type": "markdown",
   "metadata": {},
   "source": [
    "## 7) Using K-Nearest Neighbor(KNN) Algorithm"
   ]
  },
  {
   "cell_type": "code",
   "execution_count": 128,
   "metadata": {},
   "outputs": [],
   "source": [
    "from sklearn.neighbors import KNeighborsClassifier"
   ]
  },
  {
   "cell_type": "markdown",
   "metadata": {},
   "source": [
    "## Define the Model"
   ]
  },
  {
   "cell_type": "code",
   "execution_count": 129,
   "metadata": {},
   "outputs": [
    {
     "data": {
      "text/plain": [
       "KNeighborsClassifier(algorithm='auto', leaf_size=30, metric='euclidean',\n",
       "                     metric_params=None, n_jobs=None, n_neighbors=20, p=2,\n",
       "                     weights='uniform')"
      ]
     },
     "execution_count": 129,
     "metadata": {},
     "output_type": "execute_result"
    }
   ],
   "source": [
    "model= KNeighborsClassifier(n_neighbors=20, metric='euclidean')\n",
    "model.fit(X_train,y_train)"
   ]
  },
  {
   "cell_type": "markdown",
   "metadata": {},
   "source": [
    "## Predict the Model"
   ]
  },
  {
   "cell_type": "code",
   "execution_count": 130,
   "metadata": {},
   "outputs": [
    {
     "name": "stdout",
     "output_type": "stream",
     "text": [
      "\n",
      " Accuracy of Training =  98.0603448275862\n",
      "\n",
      " Accuracy of Testing =  96.0\n",
      "\n",
      " Precision score: 96.18934911242603\n",
      "\n",
      " Recall score: 96.0\n",
      "\n",
      " F1 score: 95.81991341991342\n"
     ]
    }
   ],
   "source": [
    "y_train_predict=model.predict(X_train)\n",
    "y_predict = model.predict(X_test)\n",
    "\n",
    "print(\"\\n Accuracy of Training = \",(accuracy_score(y_train,y_train_predict)*100))\n",
    "print(\"\\n Accuracy of Testing = \",(accuracy_score(y_test,y_predict)*100))\n",
    "print(\"\\n Precision score: {}\".format(precision_score(y_test,y_predict,average='weighted')*100))\n",
    "print(\"\\n Recall score: {}\".format(recall_score(y_test,y_predict,average='weighted')*100))\n",
    "print(\"\\n F1 score: {}\".format(f1_score(y_test,y_predict,average='weighted')*100))"
   ]
  },
  {
   "cell_type": "markdown",
   "metadata": {},
   "source": [
    "## Generating crosstab, confusion matrix, classification report"
   ]
  },
  {
   "cell_type": "code",
   "execution_count": 131,
   "metadata": {},
   "outputs": [
    {
     "name": "stdout",
     "output_type": "stream",
     "text": [
      "[[ 31   8]\n",
      " [  0 161]]\n"
     ]
    },
    {
     "data": {
      "text/html": [
       "<div>\n",
       "<style scoped>\n",
       "    .dataframe tbody tr th:only-of-type {\n",
       "        vertical-align: middle;\n",
       "    }\n",
       "\n",
       "    .dataframe tbody tr th {\n",
       "        vertical-align: top;\n",
       "    }\n",
       "\n",
       "    .dataframe thead th {\n",
       "        text-align: right;\n",
       "    }\n",
       "</style>\n",
       "<table border=\"1\" class=\"dataframe\">\n",
       "  <thead>\n",
       "    <tr style=\"text-align: right;\">\n",
       "      <th>col_0</th>\n",
       "      <th>0</th>\n",
       "      <th>1</th>\n",
       "    </tr>\n",
       "    <tr>\n",
       "      <th>Eligible</th>\n",
       "      <th></th>\n",
       "      <th></th>\n",
       "    </tr>\n",
       "  </thead>\n",
       "  <tbody>\n",
       "    <tr>\n",
       "      <th>0</th>\n",
       "      <td>31</td>\n",
       "      <td>8</td>\n",
       "    </tr>\n",
       "    <tr>\n",
       "      <th>1</th>\n",
       "      <td>0</td>\n",
       "      <td>161</td>\n",
       "    </tr>\n",
       "  </tbody>\n",
       "</table>\n",
       "</div>"
      ],
      "text/plain": [
       "col_0      0    1\n",
       "Eligible         \n",
       "0         31    8\n",
       "1          0  161"
      ]
     },
     "execution_count": 131,
     "metadata": {},
     "output_type": "execute_result"
    }
   ],
   "source": [
    "print(confusion_matrix(y_test,y_predict))\n",
    "pd.crosstab(y_test,y_predict)"
   ]
  },
  {
   "cell_type": "code",
   "execution_count": 132,
   "metadata": {},
   "outputs": [
    {
     "name": "stdout",
     "output_type": "stream",
     "text": [
      "              precision    recall  f1-score   support\n",
      "\n",
      "           0       1.00      0.79      0.89        39\n",
      "           1       0.95      1.00      0.98       161\n",
      "\n",
      "    accuracy                           0.96       200\n",
      "   macro avg       0.98      0.90      0.93       200\n",
      "weighted avg       0.96      0.96      0.96       200\n",
      "\n"
     ]
    }
   ],
   "source": [
    "print(classification_report(y_test,y_predict))"
   ]
  },
  {
   "cell_type": "markdown",
   "metadata": {},
   "source": [
    "## 8) Artificial Neural Networks (ANN)"
   ]
  },
  {
   "cell_type": "code",
   "execution_count": 133,
   "metadata": {},
   "outputs": [],
   "source": [
    "from sklearn.neural_network import MLPClassifier"
   ]
  },
  {
   "cell_type": "markdown",
   "metadata": {},
   "source": [
    "## Define the Model"
   ]
  },
  {
   "cell_type": "code",
   "execution_count": 134,
   "metadata": {},
   "outputs": [
    {
     "data": {
      "text/plain": [
       "MLPClassifier(activation='relu', alpha=0.0001, batch_size=10, beta_1=0.9,\n",
       "              beta_2=0.999, early_stopping=False, epsilon=1e-08,\n",
       "              hidden_layer_sizes=10, learning_rate='constant',\n",
       "              learning_rate_init=0.01, max_fun=15000, max_iter=200,\n",
       "              momentum=0.9, n_iter_no_change=10, nesterovs_momentum=True,\n",
       "              power_t=0.5, random_state=5, shuffle=True, solver='adam',\n",
       "              tol=0.0001, validation_fraction=0.1, verbose=False,\n",
       "              warm_start=False)"
      ]
     },
     "execution_count": 134,
     "metadata": {},
     "output_type": "execute_result"
    }
   ],
   "source": [
    "model=MLPClassifier(hidden_layer_sizes=10,batch_size=10,learning_rate_init=0.01,random_state=5)\n",
    "model.fit(X_train,y_train)"
   ]
  },
  {
   "cell_type": "markdown",
   "metadata": {},
   "source": [
    "## Predict the Model"
   ]
  },
  {
   "cell_type": "code",
   "execution_count": 135,
   "metadata": {},
   "outputs": [
    {
     "name": "stdout",
     "output_type": "stream",
     "text": [
      "\n",
      " Accuracy of Training =  96.98275862068965\n",
      "\n",
      " Accuracy of Testing =  94.5\n",
      "\n",
      " Precision score: 94.46875\n",
      "\n",
      " Recall score: 94.5\n",
      "\n",
      " F1 score: 94.2873838777345\n"
     ]
    }
   ],
   "source": [
    "y_train_predict=model.predict(X_train)\n",
    "y_predict = model.predict(X_test)\n",
    "\n",
    "print(\"\\n Accuracy of Training = \",(accuracy_score(y_train,y_train_predict)*100))\n",
    "print(\"\\n Accuracy of Testing = \",(accuracy_score(y_test,y_predict)*100))\n",
    "print(\"\\n Precision score: {}\".format(precision_score(y_test,y_predict,average='weighted')*100))\n",
    "print(\"\\n Recall score: {}\".format(recall_score(y_test,y_predict,average='weighted')*100))\n",
    "print(\"\\n F1 score: {}\".format(f1_score(y_test,y_predict,average='weighted')*100))"
   ]
  },
  {
   "cell_type": "markdown",
   "metadata": {},
   "source": [
    "## Generating crosstab, confusion matrix, classification report"
   ]
  },
  {
   "cell_type": "code",
   "execution_count": 136,
   "metadata": {},
   "outputs": [
    {
     "name": "stdout",
     "output_type": "stream",
     "text": [
      "[[ 30   9]\n",
      " [  2 159]]\n"
     ]
    },
    {
     "data": {
      "text/html": [
       "<div>\n",
       "<style scoped>\n",
       "    .dataframe tbody tr th:only-of-type {\n",
       "        vertical-align: middle;\n",
       "    }\n",
       "\n",
       "    .dataframe tbody tr th {\n",
       "        vertical-align: top;\n",
       "    }\n",
       "\n",
       "    .dataframe thead th {\n",
       "        text-align: right;\n",
       "    }\n",
       "</style>\n",
       "<table border=\"1\" class=\"dataframe\">\n",
       "  <thead>\n",
       "    <tr style=\"text-align: right;\">\n",
       "      <th>col_0</th>\n",
       "      <th>0</th>\n",
       "      <th>1</th>\n",
       "    </tr>\n",
       "    <tr>\n",
       "      <th>Eligible</th>\n",
       "      <th></th>\n",
       "      <th></th>\n",
       "    </tr>\n",
       "  </thead>\n",
       "  <tbody>\n",
       "    <tr>\n",
       "      <th>0</th>\n",
       "      <td>30</td>\n",
       "      <td>9</td>\n",
       "    </tr>\n",
       "    <tr>\n",
       "      <th>1</th>\n",
       "      <td>2</td>\n",
       "      <td>159</td>\n",
       "    </tr>\n",
       "  </tbody>\n",
       "</table>\n",
       "</div>"
      ],
      "text/plain": [
       "col_0      0    1\n",
       "Eligible         \n",
       "0         30    9\n",
       "1          2  159"
      ]
     },
     "execution_count": 136,
     "metadata": {},
     "output_type": "execute_result"
    }
   ],
   "source": [
    "print(confusion_matrix(y_test,y_predict))\n",
    "pd.crosstab(y_test,y_predict)"
   ]
  },
  {
   "cell_type": "code",
   "execution_count": 137,
   "metadata": {},
   "outputs": [
    {
     "name": "stdout",
     "output_type": "stream",
     "text": [
      "              precision    recall  f1-score   support\n",
      "\n",
      "           0       0.94      0.77      0.85        39\n",
      "           1       0.95      0.99      0.97       161\n",
      "\n",
      "    accuracy                           0.94       200\n",
      "   macro avg       0.94      0.88      0.91       200\n",
      "weighted avg       0.94      0.94      0.94       200\n",
      "\n"
     ]
    }
   ],
   "source": [
    "print(classification_report(y_test,y_predict))"
   ]
  },
  {
   "cell_type": "markdown",
   "metadata": {},
   "source": [
    "## 9) Extra Trees Classifier"
   ]
  },
  {
   "cell_type": "markdown",
   "metadata": {},
   "source": [
    "## Import the necessary package"
   ]
  },
  {
   "cell_type": "code",
   "execution_count": 138,
   "metadata": {},
   "outputs": [],
   "source": [
    "from sklearn.ensemble import ExtraTreesClassifier "
   ]
  },
  {
   "cell_type": "markdown",
   "metadata": {},
   "source": [
    "## Define the Model"
   ]
  },
  {
   "cell_type": "code",
   "execution_count": 139,
   "metadata": {},
   "outputs": [
    {
     "name": "stdout",
     "output_type": "stream",
     "text": [
      " Model Feature Importances =  [0.07864804 0.02802515 0.35456755 0.5115472  0.02721206]\n"
     ]
    }
   ],
   "source": [
    "model=ExtraTreesClassifier(n_estimators=100,criterion='gini',random_state=5,max_depth=3,bootstrap=True)\n",
    "model.fit(X_train,y_train)\n",
    "print(\" Model Feature Importances = \" ,model.feature_importances_)"
   ]
  },
  {
   "cell_type": "markdown",
   "metadata": {},
   "source": [
    "## Predict the Model"
   ]
  },
  {
   "cell_type": "code",
   "execution_count": 140,
   "metadata": {},
   "outputs": [
    {
     "name": "stdout",
     "output_type": "stream",
     "text": [
      "Accuracy score of Training =  92.88793103448276\n",
      "Accuracy score of Testing =  91.5\n",
      "Precision score =  92.31179775280899\n",
      "Recall score =  91.5\n",
      "F1 score =  90.52870061414963\n"
     ]
    }
   ],
   "source": [
    "y_train_predict=model.predict(X_train)\n",
    "y_predict= model.predict(X_test)\n",
    "\n",
    "print(\"Accuracy score of Training = \",accuracy_score(y_train,y_train_predict)*100)\n",
    "print(\"Accuracy score of Testing = \",accuracy_score(y_test,y_predict)*100)\n",
    "print(\"Precision score = \",(precision_score(y_test,y_predict,average='weighted')*100))\n",
    "print(\"Recall score = \",(recall_score(y_test,y_predict,average='weighted')*100))\n",
    "print(\"F1 score = \",(f1_score(y_test,y_predict,average='weighted')*100))"
   ]
  },
  {
   "cell_type": "markdown",
   "metadata": {},
   "source": [
    "## Generating confusion matrix, crosstab and classification report"
   ]
  },
  {
   "cell_type": "code",
   "execution_count": 141,
   "metadata": {},
   "outputs": [
    {
     "name": "stdout",
     "output_type": "stream",
     "text": [
      "[[ 22  17]\n",
      " [  0 161]]\n"
     ]
    },
    {
     "data": {
      "text/html": [
       "<div>\n",
       "<style scoped>\n",
       "    .dataframe tbody tr th:only-of-type {\n",
       "        vertical-align: middle;\n",
       "    }\n",
       "\n",
       "    .dataframe tbody tr th {\n",
       "        vertical-align: top;\n",
       "    }\n",
       "\n",
       "    .dataframe thead th {\n",
       "        text-align: right;\n",
       "    }\n",
       "</style>\n",
       "<table border=\"1\" class=\"dataframe\">\n",
       "  <thead>\n",
       "    <tr style=\"text-align: right;\">\n",
       "      <th>col_0</th>\n",
       "      <th>0</th>\n",
       "      <th>1</th>\n",
       "    </tr>\n",
       "    <tr>\n",
       "      <th>Eligible</th>\n",
       "      <th></th>\n",
       "      <th></th>\n",
       "    </tr>\n",
       "  </thead>\n",
       "  <tbody>\n",
       "    <tr>\n",
       "      <th>0</th>\n",
       "      <td>22</td>\n",
       "      <td>17</td>\n",
       "    </tr>\n",
       "    <tr>\n",
       "      <th>1</th>\n",
       "      <td>0</td>\n",
       "      <td>161</td>\n",
       "    </tr>\n",
       "  </tbody>\n",
       "</table>\n",
       "</div>"
      ],
      "text/plain": [
       "col_0      0    1\n",
       "Eligible         \n",
       "0         22   17\n",
       "1          0  161"
      ]
     },
     "execution_count": 141,
     "metadata": {},
     "output_type": "execute_result"
    }
   ],
   "source": [
    "print(confusion_matrix(y_test,y_predict))\n",
    "pd.crosstab(y_test,y_predict)"
   ]
  },
  {
   "cell_type": "code",
   "execution_count": 142,
   "metadata": {},
   "outputs": [
    {
     "name": "stdout",
     "output_type": "stream",
     "text": [
      "              precision    recall  f1-score   support\n",
      "\n",
      "           0       1.00      0.56      0.72        39\n",
      "           1       0.90      1.00      0.95       161\n",
      "\n",
      "    accuracy                           0.92       200\n",
      "   macro avg       0.95      0.78      0.84       200\n",
      "weighted avg       0.92      0.92      0.91       200\n",
      "\n"
     ]
    }
   ],
   "source": [
    "print(classification_report(y_test,y_predict))"
   ]
  }
 ],
 "metadata": {
  "kernelspec": {
   "display_name": "Python 3",
   "language": "python",
   "name": "python3"
  },
  "language_info": {
   "codemirror_mode": {
    "name": "ipython",
    "version": 3
   },
   "file_extension": ".py",
   "mimetype": "text/x-python",
   "name": "python",
   "nbconvert_exporter": "python",
   "pygments_lexer": "ipython3",
   "version": "3.7.6"
  }
 },
 "nbformat": 4,
 "nbformat_minor": 4
}
